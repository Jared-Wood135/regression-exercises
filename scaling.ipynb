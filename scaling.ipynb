{
 "cells": [
  {
   "cell_type": "markdown",
   "id": "7b5546b9",
   "metadata": {},
   "source": [
    "<a id='Tableofcontents'></a>\n",
    "# Table of Contents:\n",
    "<li><a href='#imports'>Imports</a></li>\n",
    "<li><a href='#q1'>Question 1</a></li>\n",
    "<li><a href='#q2'>Question 2</a></li>\n",
    "<li><a href='#q3'>Question 3</a></li>\n",
    "<li><a href='#q4'>Question 4</a></li>\n",
    "<li><a href='#q5'>Question 5</a></li>"
   ]
  },
  {
   "cell_type": "markdown",
   "id": "e449b44c",
   "metadata": {},
   "source": [
    "Do your work for these exercises in a jupyter notebook named scaling. Use the zillow dataset you acquired and prepped in previous lesson. Once you are finished, you may wish to repeat the exercises on another dataset for additional practice."
   ]
  },
  {
   "cell_type": "markdown",
   "id": "0871941a",
   "metadata": {},
   "source": [
    "<a id='imports'></a>\n",
    "# Imports:\n",
    "<li><a href='#Tableofcontents'>Table of Contents</a></li>"
   ]
  },
  {
   "cell_type": "code",
   "execution_count": null,
   "id": "b42653b5",
   "metadata": {},
   "outputs": [],
   "source": [
    "# Vectorization and tables\n",
    "import numpy as np\n",
    "import pandas as pd\n",
    "\n",
    "# Visualization\n",
    "import matplotlib.pyplot as plt\n",
    "import seaborn as sns\n",
    "\n",
    "# Stats\n",
    "from scipy import stats\n",
    "\n",
    "# Connect to sql server\n",
    "import env\n",
    "\n",
    "# .py files\n",
    "import wrangle"
   ]
  },
  {
   "cell_type": "markdown",
   "id": "9fa97ad2",
   "metadata": {},
   "source": [
    "<a id='q1'></a>\n",
    "# Question 1\n",
    "<li><a href='#Tableofcontents'>Table of Contents</a></li>"
   ]
  },
  {
   "cell_type": "markdown",
   "id": "b0e45425",
   "metadata": {},
   "source": [
    "### 1. Apply the scalers we talked about in this lesson to your data and visualize the results for the unscaled and scaled distribution ."
   ]
  },
  {
   "cell_type": "code",
   "execution_count": null,
   "id": "49eefedc",
   "metadata": {},
   "outputs": [],
   "source": []
  },
  {
   "cell_type": "markdown",
   "id": "266a5314",
   "metadata": {},
   "source": [
    "<a id='q2'></a>\n",
    "# Question 2\n",
    "<li><a href='#Tableofcontents'>Table of Contents</a></li>"
   ]
  },
  {
   "cell_type": "markdown",
   "id": "8261dbef",
   "metadata": {},
   "source": [
    "### 2. Apply the .inverse_transform method to your scaled data. Is the resulting dataset the exact same as the original data?"
   ]
  },
  {
   "cell_type": "code",
   "execution_count": null,
   "id": "9b092f08",
   "metadata": {},
   "outputs": [],
   "source": []
  },
  {
   "cell_type": "markdown",
   "id": "5e79f4ff",
   "metadata": {},
   "source": [
    "<a id='q3'></a>\n",
    "# Question 3\n",
    "<li><a href='#Tableofcontents'>Table of Contents</a></li>"
   ]
  },
  {
   "cell_type": "markdown",
   "id": "d91972ea",
   "metadata": {},
   "source": [
    "### 3. Read the documentation for sklearn's QuantileTransformer. Use normal for the output_distribution and apply this scaler to your data. Visualize the result of your data scaling."
   ]
  },
  {
   "cell_type": "code",
   "execution_count": null,
   "id": "f7cb9566",
   "metadata": {},
   "outputs": [],
   "source": []
  },
  {
   "cell_type": "markdown",
   "id": "ff955b7c",
   "metadata": {},
   "source": [
    "<a id='q4'></a>\n",
    "# Question 4\n",
    "<li><a href='#Tableofcontents'>Table of Contents</a></li>"
   ]
  },
  {
   "cell_type": "markdown",
   "id": "05215fe9",
   "metadata": {},
   "source": [
    "### 4. Use the QuantileTransformer, but omit the output_distribution argument. Visualize your results. What do you notice?"
   ]
  },
  {
   "cell_type": "code",
   "execution_count": null,
   "id": "ef66d76f",
   "metadata": {},
   "outputs": [],
   "source": []
  },
  {
   "cell_type": "markdown",
   "id": "67f45086",
   "metadata": {},
   "source": [
    "<a id='q5'></a>\n",
    "# Question 5\n",
    "<li><a href='#Tableofcontents'>Table of Contents</a></li>"
   ]
  },
  {
   "cell_type": "markdown",
   "id": "8c4f441a",
   "metadata": {},
   "source": [
    "### 5. Based on the work you've done, choose a scaling method for your dataset. Write a function within your prepare.py that accepts as input the train, validate, and test data splits, and returns the scaled versions of each. Be sure to only learn the parameters for scaling from your training data!"
   ]
  },
  {
   "cell_type": "code",
   "execution_count": null,
   "id": "dd66954c",
   "metadata": {},
   "outputs": [],
   "source": []
  }
 ],
 "metadata": {
  "kernelspec": {
   "display_name": "Python 3 (ipykernel)",
   "language": "python",
   "name": "python3"
  },
  "language_info": {
   "codemirror_mode": {
    "name": "ipython",
    "version": 3
   },
   "file_extension": ".py",
   "mimetype": "text/x-python",
   "name": "python",
   "nbconvert_exporter": "python",
   "pygments_lexer": "ipython3",
   "version": "3.9.13"
  }
 },
 "nbformat": 4,
 "nbformat_minor": 5
}

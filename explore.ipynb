{
 "cells": [
  {
   "cell_type": "markdown",
   "id": "07f9eb2a",
   "metadata": {},
   "source": [
    "<a id=\"TableOfContents\"></a>\n",
    "# TABLE OF CONTENTS:\n",
    "<li><a href='#imports'>Imports</a></li>\n",
    "<li><a href=\"#Q1\">Question 1</a></li>\n",
    "<li><a href='#Q2'>Question 2</a></li>\n",
    "<li><a href='#Q3'>Question 3</a></li>\n",
    "<li><a href=\"#Q4\">Question 4</a></li>\n",
    "<li><a href='#Q5'>Question 5</a></li>\n",
    "<li><a href='#Q6'>Question 6</a></li>\n",
    "<li><a href=\"#Q7\">Question 7</a></li>\n",
    "<li><a href='#Q8'>Question 8</a></li>\n",
    "<li><a href='#Q9'>Question 9</a></li>\n",
    "<li><a href=\"#Q10\">Question 10</a></li>\n",
    "<li><a href='#Q11'>Question 11</a></li>\n",
    "<li><a href='#Q12'>Question 12</a></li>\n",
    "<li><a href=\"#Q13\">Question 13</a></li>\n",
    "<li><a href='#bonus1'>Bonus Question 1</a></li>"
   ]
  },
  {
   "cell_type": "markdown",
   "id": "8ed6575c",
   "metadata": {},
   "source": [
    "Our Zillow scenario continues:\n",
    "\n",
    "As a Codeup data science graduate, you want to show off your skills to the Zillow data science team in hopes of getting an interview for a position you saw pop up on LinkedIn. You thought it might look impressive to build an end-to-end project in which you use some of their Kaggle data to predict property values using some of their available features; who knows, you might even do some feature engineering to blow them away. Your goal is to predict the values of single unit properties using the observations from 2017.\n",
    "\n",
    "In these exercises, you will run through the stages of exploration as you continue to work toward the above goal."
   ]
  },
  {
   "cell_type": "markdown",
   "id": "d786f277",
   "metadata": {},
   "source": [
    "<a id='imports'></a>\n",
    "# IMPORTS:\n",
    "<li><a href='#TableOfContents'>Table of Contents</a></li>"
   ]
  },
  {
   "cell_type": "code",
   "execution_count": null,
   "id": "fb8b29da",
   "metadata": {},
   "outputs": [],
   "source": [
    "# Vectorization and tables\n",
    "import numpy as np\n",
    "import pandas as pd\n",
    "\n",
    "# Visualization\n",
    "import matplotlib.pyplot as plt\n",
    "import seaborn as sns\n",
    "\n",
    "# Stats\n",
    "from scipy import stats\n",
    "\n",
    "# Connect to sql server\n",
    "import env\n",
    "\n",
    "# .py files\n",
    "import wrangle"
   ]
  },
  {
   "cell_type": "markdown",
   "id": "b7ec0fe6",
   "metadata": {},
   "source": [
    "<a id='Q1'></a>\n",
    "# Question 1:\n",
    "<li><a href='#TableOfContents'>Table of Contents</a></li>"
   ]
  },
  {
   "cell_type": "markdown",
   "id": "1b2570d1",
   "metadata": {},
   "source": [
    "### 1. As with encoded vs. unencoded data, we recommend exploring un-scaled data in your EDA process."
   ]
  },
  {
   "cell_type": "code",
   "execution_count": null,
   "id": "55ed6a37",
   "metadata": {},
   "outputs": [],
   "source": []
  },
  {
   "cell_type": "markdown",
   "id": "2bfbbbbf",
   "metadata": {},
   "source": [
    "<a id='Q2'></a>\n",
    "# Question 2:\n",
    "<li><a href='#TableOfContents'>Table of Contents</a></li>"
   ]
  },
  {
   "cell_type": "markdown",
   "id": "17104a1e",
   "metadata": {},
   "source": [
    "### 2. Make sure to perform a train, validate, test split before and use only your train dataset to explore the relationships between independent variables with other independent variables or independent variables with your target variable."
   ]
  },
  {
   "cell_type": "code",
   "execution_count": null,
   "id": "e7fa3df6",
   "metadata": {},
   "outputs": [],
   "source": []
  },
  {
   "cell_type": "markdown",
   "id": "d0f2e995",
   "metadata": {},
   "source": [
    "<a id='Q3'></a>\n",
    "# Question 3:\n",
    "<li><a href='#TableOfContents'>Table of Contents</a></li>"
   ]
  },
  {
   "cell_type": "markdown",
   "id": "ef2e8be2",
   "metadata": {},
   "source": [
    "### 3. Write a function named plot_variable_pairs that accepts a dataframe as input and plots all of the pairwise relationships along with the regression line for each pair."
   ]
  },
  {
   "cell_type": "code",
   "execution_count": null,
   "id": "337a853c",
   "metadata": {},
   "outputs": [],
   "source": []
  },
  {
   "cell_type": "markdown",
   "id": "0eb62202",
   "metadata": {},
   "source": [
    "<a id='Q4'></a>\n",
    "# Question 4:\n",
    "<li><a href='#TableOfContents'>Table of Contents</a></li>"
   ]
  },
  {
   "cell_type": "markdown",
   "id": "4442fc09",
   "metadata": {},
   "source": [
    "### 4. Write a function named plot_categorical_and_continuous_vars that accepts your dataframe and the name of the columns that hold the continuous and categorical features and outputs 3 different plots for visualizing a categorical variable and a continuous variable."
   ]
  },
  {
   "cell_type": "code",
   "execution_count": null,
   "id": "ce4d1d1d",
   "metadata": {},
   "outputs": [],
   "source": []
  },
  {
   "cell_type": "markdown",
   "id": "e1fcab63",
   "metadata": {},
   "source": [
    "<a id='Q5'></a>\n",
    "# Question 5:\n",
    "<li><a href='#TableOfContents'>Table of Contents</a></li>"
   ]
  },
  {
   "cell_type": "markdown",
   "id": "6ef5d521",
   "metadata": {},
   "source": [
    "### 5. Save the functions you have written to create visualizations in your explore.py file. Rewrite your notebook code so that you are using the functions imported from this file."
   ]
  },
  {
   "cell_type": "code",
   "execution_count": null,
   "id": "b78ba964",
   "metadata": {},
   "outputs": [],
   "source": []
  },
  {
   "cell_type": "markdown",
   "id": "180104db",
   "metadata": {},
   "source": [
    "<a id='Q6'></a>\n",
    "# Question 6:\n",
    "<li><a href='#TableOfContents'>Table of Contents</a></li>"
   ]
  },
  {
   "cell_type": "markdown",
   "id": "f290a79e",
   "metadata": {},
   "source": [
    "### 6. Use the functions you created above to explore your Zillow train dataset in your explore.ipynb notebook."
   ]
  },
  {
   "cell_type": "code",
   "execution_count": null,
   "id": "b341169d",
   "metadata": {},
   "outputs": [],
   "source": []
  },
  {
   "cell_type": "markdown",
   "id": "0282b70c",
   "metadata": {},
   "source": [
    "<a id='Q7'></a>\n",
    "# Question 7:\n",
    "<li><a href='#TableOfContents'>Table of Contents</a></li>"
   ]
  },
  {
   "cell_type": "markdown",
   "id": "1026b6c5",
   "metadata": {},
   "source": [
    "### 7. Come up with some initial hypotheses based on your goal of predicting property value."
   ]
  },
  {
   "cell_type": "code",
   "execution_count": null,
   "id": "90435f72",
   "metadata": {},
   "outputs": [],
   "source": []
  },
  {
   "cell_type": "markdown",
   "id": "590d6601",
   "metadata": {},
   "source": [
    "<a id='Q8'></a>\n",
    "# Question 8:\n",
    "<li><a href='#TableOfContents'>Table of Contents</a></li>"
   ]
  },
  {
   "cell_type": "markdown",
   "id": "95a03c6b",
   "metadata": {},
   "source": [
    "### 8. Visualize all combinations of variables in some way."
   ]
  },
  {
   "cell_type": "code",
   "execution_count": null,
   "id": "cfe92b3e",
   "metadata": {},
   "outputs": [],
   "source": []
  },
  {
   "cell_type": "markdown",
   "id": "ac4f0ee7",
   "metadata": {},
   "source": [
    "<a id='Q9'></a>\n",
    "# Question 9:\n",
    "<li><a href='#TableOfContents'>Table of Contents</a></li>"
   ]
  },
  {
   "cell_type": "markdown",
   "id": "060174f7",
   "metadata": {},
   "source": [
    "### 9. Run the appropriate statistical tests where needed."
   ]
  },
  {
   "cell_type": "code",
   "execution_count": null,
   "id": "2796b28c",
   "metadata": {},
   "outputs": [],
   "source": []
  },
  {
   "cell_type": "markdown",
   "id": "7b821be1",
   "metadata": {},
   "source": [
    "<a id='Q10'></a>\n",
    "# Question 10:\n",
    "<li><a href='#TableOfContents'>Table of Contents</a></li>"
   ]
  },
  {
   "cell_type": "markdown",
   "id": "ab959d2b",
   "metadata": {},
   "source": [
    "### 10. What independent variables are correlated with the dependent variable, home value?"
   ]
  },
  {
   "cell_type": "code",
   "execution_count": null,
   "id": "9c48c2bb",
   "metadata": {},
   "outputs": [],
   "source": []
  },
  {
   "cell_type": "markdown",
   "id": "f557ad23",
   "metadata": {},
   "source": [
    "<a id='Q11'></a>\n",
    "# Question 11:\n",
    "<li><a href='#TableOfContents'>Table of Contents</a></li>"
   ]
  },
  {
   "cell_type": "markdown",
   "id": "f19cae8f",
   "metadata": {},
   "source": [
    "### 11. Which independent variables are correlated with other independent variables (bedrooms, bathrooms, year built, square feet)?"
   ]
  },
  {
   "cell_type": "code",
   "execution_count": null,
   "id": "866dbbff",
   "metadata": {},
   "outputs": [],
   "source": []
  },
  {
   "cell_type": "markdown",
   "id": "1aa27bbe",
   "metadata": {},
   "source": [
    "<a id='Q12'></a>\n",
    "# Question 12:\n",
    "<li><a href='#TableOfContents'>Table of Contents</a></li>"
   ]
  },
  {
   "cell_type": "markdown",
   "id": "9236d7cd",
   "metadata": {},
   "source": [
    "### 12. Make sure to document your takeaways from visualizations and statistical tests as well as the decisions you make throughout your process."
   ]
  },
  {
   "cell_type": "code",
   "execution_count": null,
   "id": "5b749243",
   "metadata": {},
   "outputs": [],
   "source": []
  },
  {
   "cell_type": "markdown",
   "id": "bb44b43e",
   "metadata": {},
   "source": [
    "<a id='Q13'></a>\n",
    "# Question 13:\n",
    "<li><a href='#TableOfContents'>Table of Contents</a></li>"
   ]
  },
  {
   "cell_type": "markdown",
   "id": "196cb7d8",
   "metadata": {},
   "source": [
    "### 13. Explore your dataset with any other visualizations you think will be helpful."
   ]
  },
  {
   "cell_type": "code",
   "execution_count": null,
   "id": "184df507",
   "metadata": {},
   "outputs": [],
   "source": []
  },
  {
   "cell_type": "markdown",
   "id": "3d0191b3",
   "metadata": {},
   "source": [
    "<a id='bonus1'></a>\n",
    "# Bonus Question 1:\n",
    "<li><a href='#TableOfContents'>Table of Contents</a></li>"
   ]
  },
  {
   "cell_type": "markdown",
   "id": "81868450",
   "metadata": {},
   "source": [
    "### Bonus - 1. In a seperate notebook called explore_mall, use the functions you have developed in this exercise with the mall_customers dataset in the Codeup database server. You will need to write a sql query to acquire your data. Make spending_score your target variable."
   ]
  },
  {
   "cell_type": "code",
   "execution_count": 1,
   "id": "08619d5f",
   "metadata": {},
   "outputs": [
    {
     "name": "stdout",
     "output_type": "stream",
     "text": [
      "\u001b[31mNEED TO DO (MAKE NEW NOTEBOOK)\u001b[0m\n"
     ]
    }
   ],
   "source": [
    "print('\\033[31mNEED TO DO (MAKE NEW NOTEBOOK)\\033[0m')"
   ]
  },
  {
   "cell_type": "code",
   "execution_count": null,
   "id": "b0b37a1c",
   "metadata": {},
   "outputs": [],
   "source": []
  }
 ],
 "metadata": {
  "kernelspec": {
   "display_name": "Python 3 (ipykernel)",
   "language": "python",
   "name": "python3"
  },
  "language_info": {
   "codemirror_mode": {
    "name": "ipython",
    "version": 3
   },
   "file_extension": ".py",
   "mimetype": "text/x-python",
   "name": "python",
   "nbconvert_exporter": "python",
   "pygments_lexer": "ipython3",
   "version": "3.9.13"
  }
 },
 "nbformat": 4,
 "nbformat_minor": 5
}

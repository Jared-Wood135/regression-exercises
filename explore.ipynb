{
 "cells": [
  {
   "cell_type": "markdown",
   "id": "b293791f",
   "metadata": {},
   "source": [
    "<a id=\"TableOfContents\"></a>\n",
    "# TABLE OF CONTENTS:\n",
    "<li><a href='#imports'>Imports</a></li>\n",
    "<li><a href=\"#Q1\">Question 1</a></li>\n",
    "<li><a href='#Q2'>Question 2</a></li>\n",
    "<li><a href='#Q3'>Question 3</a></li>\n",
    "<li><a href=\"#Q4\">Question 4</a></li>\n",
    "<li><a href='#Q5'>Question 5</a></li>\n",
    "<li><a href='#Q6'>Question 6</a></li>\n",
    "<li><a href=\"#Q7\">Question 7</a></li>\n",
    "<li><a href='#Q8'>Question 8</a></li>\n",
    "<li><a href='#Q9'>Question 9</a></li>\n",
    "<li><a href=\"#Q10\">Question 10</a></li>\n",
    "<li><a href='#Q11'>Question 11</a></li>\n",
    "<li><a href='#Q12'>Question 12</a></li>\n",
    "<li><a href=\"#Q13\">Question 13</a></li>\n",
    "<li><a href='#bonus1'>Bonus Question 1</a></li>"
   ]
  },
  {
   "cell_type": "markdown",
   "id": "0ef813b8",
   "metadata": {},
   "source": [
    "Our Zillow scenario continues:\n",
    "\n",
    "As a Codeup data science graduate, you want to show off your skills to the Zillow data science team in hopes of getting an interview for a position you saw pop up on LinkedIn. You thought it might look impressive to build an end-to-end project in which you use some of their Kaggle data to predict property values using some of their available features; who knows, you might even do some feature engineering to blow them away. Your goal is to predict the values of single unit properties using the observations from 2017.\n",
    "\n",
    "In these exercises, you will run through the stages of exploration as you continue to work toward the above goal."
   ]
  },
  {
   "cell_type": "markdown",
   "id": "cfe441ed",
   "metadata": {},
   "source": [
    "<a id='imports'></a>\n",
    "# IMPORTS:\n",
    "<li><a href='#TableOfContents'>Table of Contents</a></li>"
   ]
  },
  {
   "cell_type": "code",
   "execution_count": null,
   "id": "6372026f",
   "metadata": {},
   "outputs": [],
   "source": [
    "# Vectorization and tables\n",
    "import numpy as np\n",
    "import pandas as pd\n",
    "\n",
    "# Visualization\n",
    "import matplotlib.pyplot as plt\n",
    "import seaborn as sns\n",
    "\n",
    "# Stats\n",
    "from scipy import stats\n",
    "\n",
    "# .py files\n",
    "import wrangle"
   ]
  },
  {
   "cell_type": "markdown",
   "id": "89a9bdae",
   "metadata": {},
   "source": [
    "<a id='Q1'></a>\n",
    "# Question 1:\n",
    "<li><a href='#TableOfContents'>Table of Contents</a></li>"
   ]
  },
  {
   "cell_type": "markdown",
   "id": "3ddf527c",
   "metadata": {},
   "source": [
    "### 1. As with encoded vs. unencoded data, we recommend exploring un-scaled data in your EDA process."
   ]
  },
  {
   "cell_type": "code",
   "execution_count": null,
   "id": "f31af85a",
   "metadata": {},
   "outputs": [],
   "source": []
  },
  {
   "cell_type": "markdown",
   "id": "ee80cbf2",
   "metadata": {},
   "source": [
    "<a id='Q2'></a>\n",
    "# Question 2:\n",
    "<li><a href='#TableOfContents'>Table of Contents</a></li>"
   ]
  },
  {
   "cell_type": "markdown",
   "id": "e875ba6a",
   "metadata": {},
   "source": [
    "### 2. Make sure to perform a train, validate, test split before and use only your train dataset to explore the relationships between independent variables with other independent variables or independent variables with your target variable."
   ]
  },
  {
   "cell_type": "code",
   "execution_count": null,
   "id": "8d070788",
   "metadata": {},
   "outputs": [],
   "source": []
  },
  {
   "cell_type": "markdown",
   "id": "1d1748a2",
   "metadata": {},
   "source": [
    "<a id='Q3'></a>\n",
    "# Question 3:\n",
    "<li><a href='#TableOfContents'>Table of Contents</a></li>"
   ]
  },
  {
   "cell_type": "markdown",
   "id": "d8fb74b5",
   "metadata": {},
   "source": [
    "### 3. Write a function named plot_variable_pairs that accepts a dataframe as input and plots all of the pairwise relationships along with the regression line for each pair."
   ]
  },
  {
   "cell_type": "code",
   "execution_count": null,
   "id": "3b6a22ef",
   "metadata": {},
   "outputs": [],
   "source": []
  },
  {
   "cell_type": "markdown",
   "id": "664032ff",
   "metadata": {},
   "source": [
    "<a id='Q4'></a>\n",
    "# Question 4:\n",
    "<li><a href='#TableOfContents'>Table of Contents</a></li>"
   ]
  },
  {
   "cell_type": "markdown",
   "id": "470da622",
   "metadata": {},
   "source": [
    "### 4. Write a function named plot_categorical_and_continuous_vars that accepts your dataframe and the name of the columns that hold the continuous and categorical features and outputs 3 different plots for visualizing a categorical variable and a continuous variable."
   ]
  },
  {
   "cell_type": "code",
   "execution_count": null,
   "id": "f8ce1383",
   "metadata": {},
   "outputs": [],
   "source": []
  },
  {
   "cell_type": "markdown",
   "id": "f7387126",
   "metadata": {},
   "source": [
    "<a id='Q5'></a>\n",
    "# Question 5:\n",
    "<li><a href='#TableOfContents'>Table of Contents</a></li>"
   ]
  },
  {
   "cell_type": "markdown",
   "id": "192128e3",
   "metadata": {},
   "source": [
    "### 5. Save the functions you have written to create visualizations in your explore.py file. Rewrite your notebook code so that you are using the functions imported from this file."
   ]
  },
  {
   "cell_type": "code",
   "execution_count": null,
   "id": "860b5ea9",
   "metadata": {},
   "outputs": [],
   "source": []
  },
  {
   "cell_type": "markdown",
   "id": "d1f1ae06",
   "metadata": {},
   "source": [
    "<a id='Q6'></a>\n",
    "# Question 6:\n",
    "<li><a href='#TableOfContents'>Table of Contents</a></li>"
   ]
  },
  {
   "cell_type": "markdown",
   "id": "5964fd17",
   "metadata": {},
   "source": [
    "### 6. Use the functions you created above to explore your Zillow train dataset in your explore.ipynb notebook."
   ]
  },
  {
   "cell_type": "code",
   "execution_count": null,
   "id": "3b136474",
   "metadata": {},
   "outputs": [],
   "source": []
  },
  {
   "cell_type": "markdown",
   "id": "1b1ce0b1",
   "metadata": {},
   "source": [
    "<a id='Q7'></a>\n",
    "# Question 7:\n",
    "<li><a href='#TableOfContents'>Table of Contents</a></li>"
   ]
  },
  {
   "cell_type": "markdown",
   "id": "1bc97b9e",
   "metadata": {},
   "source": [
    "### 7. Come up with some initial hypotheses based on your goal of predicting property value."
   ]
  },
  {
   "cell_type": "code",
   "execution_count": null,
   "id": "f58fe47c",
   "metadata": {},
   "outputs": [],
   "source": []
  },
  {
   "cell_type": "markdown",
   "id": "ff7a8580",
   "metadata": {},
   "source": [
    "<a id='Q8'></a>\n",
    "# Question 8:\n",
    "<li><a href='#TableOfContents'>Table of Contents</a></li>"
   ]
  },
  {
   "cell_type": "markdown",
   "id": "f49bb23c",
   "metadata": {},
   "source": [
    "### 8. Visualize all combinations of variables in some way."
   ]
  },
  {
   "cell_type": "code",
   "execution_count": null,
   "id": "8d0c22d5",
   "metadata": {},
   "outputs": [],
   "source": []
  },
  {
   "cell_type": "markdown",
   "id": "b02e9115",
   "metadata": {},
   "source": [
    "<a id='Q9'></a>\n",
    "# Question 9:\n",
    "<li><a href='#TableOfContents'>Table of Contents</a></li>"
   ]
  },
  {
   "cell_type": "markdown",
   "id": "1c36877e",
   "metadata": {},
   "source": [
    "### 9. Run the appropriate statistical tests where needed."
   ]
  },
  {
   "cell_type": "code",
   "execution_count": null,
   "id": "8340e8c8",
   "metadata": {},
   "outputs": [],
   "source": []
  },
  {
   "cell_type": "markdown",
   "id": "8619b76c",
   "metadata": {},
   "source": [
    "<a id='Q10'></a>\n",
    "# Question 10:\n",
    "<li><a href='#TableOfContents'>Table of Contents</a></li>"
   ]
  },
  {
   "cell_type": "markdown",
   "id": "ab7b1dea",
   "metadata": {},
   "source": [
    "### 10. What independent variables are correlated with the dependent variable, home value?"
   ]
  },
  {
   "cell_type": "code",
   "execution_count": null,
   "id": "3ebfa5fa",
   "metadata": {},
   "outputs": [],
   "source": []
  },
  {
   "cell_type": "markdown",
   "id": "cdda072f",
   "metadata": {},
   "source": [
    "<a id='Q11'></a>\n",
    "# Question 11:\n",
    "<li><a href='#TableOfContents'>Table of Contents</a></li>"
   ]
  },
  {
   "cell_type": "markdown",
   "id": "af6a5a20",
   "metadata": {},
   "source": [
    "### 11. Which independent variables are correlated with other independent variables (bedrooms, bathrooms, year built, square feet)?"
   ]
  },
  {
   "cell_type": "code",
   "execution_count": null,
   "id": "c653bddb",
   "metadata": {},
   "outputs": [],
   "source": []
  },
  {
   "cell_type": "markdown",
   "id": "1ecca20d",
   "metadata": {},
   "source": [
    "<a id='Q12'></a>\n",
    "# Question 12:\n",
    "<li><a href='#TableOfContents'>Table of Contents</a></li>"
   ]
  },
  {
   "cell_type": "markdown",
   "id": "0e4a58c2",
   "metadata": {},
   "source": [
    "### 12. Make sure to document your takeaways from visualizations and statistical tests as well as the decisions you make throughout your process."
   ]
  },
  {
   "cell_type": "code",
   "execution_count": null,
   "id": "254771ca",
   "metadata": {},
   "outputs": [],
   "source": []
  },
  {
   "cell_type": "markdown",
   "id": "df35591e",
   "metadata": {},
   "source": [
    "<a id='Q13'></a>\n",
    "# Question 13:\n",
    "<li><a href='#TableOfContents'>Table of Contents</a></li>"
   ]
  },
  {
   "cell_type": "markdown",
   "id": "9207e72f",
   "metadata": {},
   "source": [
    "### 13. Explore your dataset with any other visualizations you think will be helpful."
   ]
  },
  {
   "cell_type": "code",
   "execution_count": null,
   "id": "b9a03644",
   "metadata": {},
   "outputs": [],
   "source": []
  },
  {
   "cell_type": "markdown",
   "id": "f37eff8b",
   "metadata": {},
   "source": [
    "<a id='bonus1'></a>\n",
    "# Bonus Question 1:\n",
    "<li><a href='#TableOfContents'>Table of Contents</a></li>"
   ]
  },
  {
   "cell_type": "markdown",
   "id": "af7dd78a",
   "metadata": {},
   "source": [
    "### Bonus - 1. In a seperate notebook called explore_mall, use the functions you have developed in this exercise with the mall_customers dataset in the Codeup database server. You will need to write a sql query to acquire your data. Make spending_score your target variable."
   ]
  },
  {
   "cell_type": "code",
   "execution_count": 1,
   "id": "97e3cdc5",
   "metadata": {},
   "outputs": [
    {
     "name": "stdout",
     "output_type": "stream",
     "text": [
      "\u001b[31mNEED TO DO (MAKE NEW NOTEBOOK)\u001b[0m\n"
     ]
    }
   ],
   "source": [
    "print('\\033[31mNEED TO DO (MAKE NEW NOTEBOOK)\\033[0m')"
   ]
  },
  {
   "cell_type": "code",
   "execution_count": null,
   "id": "435c0481",
   "metadata": {},
   "outputs": [],
   "source": []
  }
 ],
 "metadata": {
  "kernelspec": {
   "display_name": "Python 3 (ipykernel)",
   "language": "python",
   "name": "python3"
  },
  "language_info": {
   "codemirror_mode": {
    "name": "ipython",
    "version": 3
   },
   "file_extension": ".py",
   "mimetype": "text/x-python",
   "name": "python",
   "nbconvert_exporter": "python",
   "pygments_lexer": "ipython3",
   "version": "3.9.13"
  }
 },
 "nbformat": 4,
 "nbformat_minor": 5
}

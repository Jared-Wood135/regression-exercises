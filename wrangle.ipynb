{
 "cells": [
  {
   "cell_type": "markdown",
   "id": "50075eb1",
   "metadata": {},
   "source": [
    "<a id=\"TableOfContents\"></a>\n",
    "# TABLE OF CONTENTS:\n",
    "<li><a href='#imports'>Imports</a></li>\n",
    "<li><a href=\"#Q1\">Question 1</a></li>\n",
    "<li><a href='#Q2'>Question 2</a></li>\n",
    "<li><a href='#Q3'>Question 3</a></li>"
   ]
  },
  {
   "cell_type": "markdown",
   "id": "23310509",
   "metadata": {},
   "source": [
    "Let's set up an example scenario as perspective for our regression exercises using the Zillow dataset.\n",
    "\n",
    "As a Codeup data science graduate, you want to show off your skills to the Zillow data science team in hopes of getting an interview for a position you saw pop up on LinkedIn. You thought it might look impressive to build an end-to-end project in which you use some of their Kaggle data to predict property values using some of their available features; who knows, you might even do some feature engineering to blow them away. Your goal is to predict the values of single unit properties using the obervations from 2017.\n",
    "\n",
    "In these exercises, you will complete the first step toward the above goal: acquire and prepare the necessary Zillow data from the zillow database in the Codeup database server."
   ]
  },
  {
   "cell_type": "markdown",
   "id": "98fc196f",
   "metadata": {},
   "source": [
    "<a id='imports'></a>\n",
    "# IMPORTS:\n",
    "<li><a href='#TableOfContents'>Table of Contents</a></li>"
   ]
  },
  {
   "cell_type": "code",
   "execution_count": 1,
   "id": "929d8c90",
   "metadata": {},
   "outputs": [],
   "source": [
    "# Vectorization and tables\n",
    "import numpy as np\n",
    "import pandas as pd\n",
    "\n",
    "# Visualization\n",
    "import matplotlib.pyplot as plt\n",
    "import seaborn as sns\n",
    "\n",
    "# Stats\n",
    "from scipy import stats\n",
    "\n",
    "# Connect to sql server\n",
    "import env\n",
    "\n",
    "# .py files\n",
    "import wrangle"
   ]
  },
  {
   "cell_type": "markdown",
   "id": "9f0745dd",
   "metadata": {},
   "source": [
    "<a id='Q1'></a>\n",
    "# Question 1\n",
    "<li><a href='#TableOfContents'>Table of Contents</a></li>"
   ]
  },
  {
   "cell_type": "markdown",
   "id": "1bf696be",
   "metadata": {},
   "source": [
    "### 1. Acquire bedroomcnt, bathroomcnt, calculatedfinishedsquarefeet, taxvaluedollarcnt, yearbuilt, taxamount, and fips from the zillow database for all 'Single Family Residential' properties."
   ]
  },
  {
   "cell_type": "code",
   "execution_count": 2,
   "id": "720ffefa",
   "metadata": {},
   "outputs": [],
   "source": [
    "zillow = wrangle.acquire()"
   ]
  },
  {
   "cell_type": "code",
   "execution_count": 3,
   "id": "4ad4ca3b",
   "metadata": {},
   "outputs": [
    {
     "data": {
      "text/html": [
       "<div>\n",
       "<style scoped>\n",
       "    .dataframe tbody tr th:only-of-type {\n",
       "        vertical-align: middle;\n",
       "    }\n",
       "\n",
       "    .dataframe tbody tr th {\n",
       "        vertical-align: top;\n",
       "    }\n",
       "\n",
       "    .dataframe thead th {\n",
       "        text-align: right;\n",
       "    }\n",
       "</style>\n",
       "<table border=\"1\" class=\"dataframe\">\n",
       "  <thead>\n",
       "    <tr style=\"text-align: right;\">\n",
       "      <th></th>\n",
       "      <th>bedroomcnt</th>\n",
       "      <th>bathroomcnt</th>\n",
       "      <th>calculatedfinishedsquarefeet</th>\n",
       "      <th>taxvaluedollarcnt</th>\n",
       "      <th>yearbuilt</th>\n",
       "      <th>taxamount</th>\n",
       "      <th>fips</th>\n",
       "    </tr>\n",
       "  </thead>\n",
       "  <tbody>\n",
       "    <tr>\n",
       "      <th>1032448</th>\n",
       "      <td>4.0</td>\n",
       "      <td>3.0</td>\n",
       "      <td>2129.0</td>\n",
       "      <td>160740.0</td>\n",
       "      <td>1977.0</td>\n",
       "      <td>1748.00</td>\n",
       "      <td>6059.0</td>\n",
       "    </tr>\n",
       "    <tr>\n",
       "      <th>1477929</th>\n",
       "      <td>2.0</td>\n",
       "      <td>1.0</td>\n",
       "      <td>1302.0</td>\n",
       "      <td>208873.0</td>\n",
       "      <td>1937.0</td>\n",
       "      <td>2609.10</td>\n",
       "      <td>6037.0</td>\n",
       "    </tr>\n",
       "    <tr>\n",
       "      <th>361984</th>\n",
       "      <td>3.0</td>\n",
       "      <td>2.0</td>\n",
       "      <td>1372.0</td>\n",
       "      <td>163822.0</td>\n",
       "      <td>1929.0</td>\n",
       "      <td>2070.76</td>\n",
       "      <td>6037.0</td>\n",
       "    </tr>\n",
       "    <tr>\n",
       "      <th>63911</th>\n",
       "      <td>2.0</td>\n",
       "      <td>2.5</td>\n",
       "      <td>2129.0</td>\n",
       "      <td>112088.0</td>\n",
       "      <td>1989.0</td>\n",
       "      <td>862.70</td>\n",
       "      <td>6059.0</td>\n",
       "    </tr>\n",
       "    <tr>\n",
       "      <th>1161533</th>\n",
       "      <td>4.0</td>\n",
       "      <td>2.5</td>\n",
       "      <td>2177.0</td>\n",
       "      <td>483334.0</td>\n",
       "      <td>1989.0</td>\n",
       "      <td>5278.96</td>\n",
       "      <td>6059.0</td>\n",
       "    </tr>\n",
       "  </tbody>\n",
       "</table>\n",
       "</div>"
      ],
      "text/plain": [
       "         bedroomcnt  bathroomcnt  calculatedfinishedsquarefeet  \\\n",
       "1032448         4.0          3.0                        2129.0   \n",
       "1477929         2.0          1.0                        1302.0   \n",
       "361984          3.0          2.0                        1372.0   \n",
       "63911           2.0          2.5                        2129.0   \n",
       "1161533         4.0          2.5                        2177.0   \n",
       "\n",
       "         taxvaluedollarcnt  yearbuilt  taxamount    fips  \n",
       "1032448           160740.0     1977.0    1748.00  6059.0  \n",
       "1477929           208873.0     1937.0    2609.10  6037.0  \n",
       "361984            163822.0     1929.0    2070.76  6037.0  \n",
       "63911             112088.0     1989.0     862.70  6059.0  \n",
       "1161533           483334.0     1989.0    5278.96  6059.0  "
      ]
     },
     "execution_count": 3,
     "metadata": {},
     "output_type": "execute_result"
    }
   ],
   "source": [
    "zillow.sample(5)"
   ]
  },
  {
   "cell_type": "markdown",
   "id": "63f38ae3",
   "metadata": {},
   "source": [
    "<a id='Q2'></a>\n",
    "# Question 2\n",
    "<li><a href='#TableOfContents'>Table of Contents</a></li>"
   ]
  },
  {
   "cell_type": "markdown",
   "id": "d9f77fbf",
   "metadata": {},
   "source": [
    "### 2. Using your acquired Zillow data, walk through the summarization and cleaning steps in your wrangle.ipynb file like we did above. You may handle the missing values however you feel is appropriate and meaningful; remember to document your process and decisions using markdown and code commenting where helpful."
   ]
  },
  {
   "cell_type": "markdown",
   "id": "b11ab73b",
   "metadata": {},
   "source": [
    "### Issues To Fix:\n",
    "\n",
    "- Column Types\n",
    "    - bedroomcnt\n",
    "        - Float to int(19 - categorical)\n",
    "        - 1-16, 18, 25\n",
    "    - bathroomcnt\n",
    "        - Float(38 - categorical)?\n",
    "        - 0-20, 32\n",
    "        - 0.5-12.5, 14.5, 19.5\n",
    "        - 1.75\n",
    "    - taxvaluedollarcount\n",
    "        - Float(10580 - categorical)?\n",
    "    - yearbuilt\n",
    "        - Float to int(153 - categorical)?\n",
    "    - fips\n",
    "        - Float to object(3 - categorical)\n",
    "        - 6037, 6059, 6111\n",
    "- Column Values\n",
    "    - bedroomcnt\n",
    "        - 11 na\n",
    "        - Fill with mode\n",
    "    - bathroomcnt\n",
    "        - 11 na\n",
    "        - Fill with mode\n",
    "    - calculatedfinishedsquarefeet\n",
    "        - 8484 na\n",
    "        - Fill with mean\n",
    "    - taxvaluedollarcount\n",
    "        - 493 na\n",
    "        - Fill with mean\n",
    "    - yearbuilt\n",
    "        - 9337 na\n",
    "        - Fill with ?\n",
    "    - taxamount\n",
    "        - 4442 na\n",
    "        - Fill with mean"
   ]
  },
  {
   "cell_type": "code",
   "execution_count": 4,
   "id": "3bbb4b34",
   "metadata": {},
   "outputs": [],
   "source": [
    "# Fix bedroomcnt\n",
    "# Fill na with mode (3.0)\n",
    "# Change float to int type\n",
    "\n",
    "# Fix bathroomcnt\n",
    "# Fill na with mode (2.0)\n",
    "\n",
    "# Fix calculatedfinishedsquarefeet\n",
    "# Fill na with mean (1862.9)\n",
    "\n",
    "# Fix taxvaluedollarcnt\n",
    "# Fill na with mean(461896.2)\n",
    "\n",
    "# Fix yearbuilt\n",
    "# Fill na with mode (1955)\n",
    "# Change float to int type\n",
    "\n",
    "# Fix taxamount\n",
    "# Fill na with mean (5634.87)\n",
    "\n",
    "# Fix fips\n",
    "# Change float to object (6037, 6059, 6111)\n",
    "\n",
    "# Test wrangle.prepare() function\n",
    "zillow = wrangle.prepare()"
   ]
  },
  {
   "cell_type": "code",
   "execution_count": 5,
   "id": "ba3a37cc",
   "metadata": {},
   "outputs": [
    {
     "data": {
      "text/plain": [
       "bedroomcnt                        int64\n",
       "bathroomcnt                     float64\n",
       "calculatedfinishedsquarefeet    float64\n",
       "taxvaluedollarcnt               float64\n",
       "yearbuilt                         int64\n",
       "taxamount                       float64\n",
       "fips                             object\n",
       "dtype: object"
      ]
     },
     "execution_count": 5,
     "metadata": {},
     "output_type": "execute_result"
    }
   ],
   "source": [
    "# Verify dtypes changed\n",
    "zillow.dtypes"
   ]
  },
  {
   "cell_type": "code",
   "execution_count": 6,
   "id": "f1528d75",
   "metadata": {},
   "outputs": [
    {
     "data": {
      "text/plain": [
       "bedroomcnt                      0\n",
       "bathroomcnt                     0\n",
       "calculatedfinishedsquarefeet    0\n",
       "taxvaluedollarcnt               0\n",
       "yearbuilt                       0\n",
       "taxamount                       0\n",
       "fips                            0\n",
       "dtype: int64"
      ]
     },
     "execution_count": 6,
     "metadata": {},
     "output_type": "execute_result"
    }
   ],
   "source": [
    "# Verify no nulls/na values\n",
    "zillow.isna().sum()"
   ]
  },
  {
   "cell_type": "markdown",
   "id": "3d4527c3",
   "metadata": {},
   "source": [
    "<a id='Q3'></a>\n",
    "# Question 3\n",
    "<li><a href='#TableOfContents'>Table of Contents</a></li>"
   ]
  },
  {
   "cell_type": "markdown",
   "id": "d6bc87e0",
   "metadata": {},
   "source": [
    "### 3. Store all of the necessary functions to automate your process from acquiring the data to returning a cleaned dataframe with no missing values in your wrangle.py file. Name your final function wrangle_zillow."
   ]
  },
  {
   "cell_type": "code",
   "execution_count": 7,
   "id": "4b7d3e15",
   "metadata": {},
   "outputs": [
    {
     "name": "stdout",
     "output_type": "stream",
     "text": [
      "\u001b[32mDAS IS COMPLETED JA\u001b[0m\n"
     ]
    }
   ],
   "source": [
    "print('\\033[32mDAS IS COMPLETED JA\\033[0m')"
   ]
  },
  {
   "cell_type": "code",
   "execution_count": 8,
   "id": "9cb60b91",
   "metadata": {},
   "outputs": [
    {
     "data": {
      "text/html": [
       "<div>\n",
       "<style scoped>\n",
       "    .dataframe tbody tr th:only-of-type {\n",
       "        vertical-align: middle;\n",
       "    }\n",
       "\n",
       "    .dataframe tbody tr th {\n",
       "        vertical-align: top;\n",
       "    }\n",
       "\n",
       "    .dataframe thead th {\n",
       "        text-align: right;\n",
       "    }\n",
       "</style>\n",
       "<table border=\"1\" class=\"dataframe\">\n",
       "  <thead>\n",
       "    <tr style=\"text-align: right;\">\n",
       "      <th></th>\n",
       "      <th>bedroomcnt</th>\n",
       "      <th>bathroomcnt</th>\n",
       "      <th>calculatedfinishedsquarefeet</th>\n",
       "      <th>taxvaluedollarcnt</th>\n",
       "      <th>yearbuilt</th>\n",
       "      <th>taxamount</th>\n",
       "      <th>fips</th>\n",
       "    </tr>\n",
       "  </thead>\n",
       "  <tbody>\n",
       "    <tr>\n",
       "      <th>191067</th>\n",
       "      <td>4</td>\n",
       "      <td>2.0</td>\n",
       "      <td>1245.0</td>\n",
       "      <td>63957.0</td>\n",
       "      <td>1962</td>\n",
       "      <td>970.72</td>\n",
       "      <td>6059</td>\n",
       "    </tr>\n",
       "  </tbody>\n",
       "</table>\n",
       "</div>"
      ],
      "text/plain": [
       "        bedroomcnt  bathroomcnt  calculatedfinishedsquarefeet  \\\n",
       "191067           4          2.0                        1245.0   \n",
       "\n",
       "        taxvaluedollarcnt  yearbuilt  taxamount  fips  \n",
       "191067            63957.0       1962     970.72  6059  "
      ]
     },
     "execution_count": 8,
     "metadata": {},
     "output_type": "execute_result"
    }
   ],
   "source": [
    "wrangle_zillow = wrangle.wrangle_zillow()\n",
    "wrangle_zillow.sample()"
   ]
  }
 ],
 "metadata": {
  "kernelspec": {
   "display_name": "Python 3 (ipykernel)",
   "language": "python",
   "name": "python3"
  },
  "language_info": {
   "codemirror_mode": {
    "name": "ipython",
    "version": 3
   },
   "file_extension": ".py",
   "mimetype": "text/x-python",
   "name": "python",
   "nbconvert_exporter": "python",
   "pygments_lexer": "ipython3",
   "version": "3.9.13"
  }
 },
 "nbformat": 4,
 "nbformat_minor": 5
}

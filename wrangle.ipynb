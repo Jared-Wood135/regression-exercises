{
 "cells": [
  {
   "cell_type": "markdown",
   "id": "6d54b6e7",
   "metadata": {},
   "source": [
    "<a id=\"TableOfContents\"></a>\n",
    "# TABLE OF CONTENTS:\n",
    "<li><a href='#imports'>Imports</a></li>\n",
    "<li><a href=\"#Q1\">Question 1</a></li>\n",
    "<li><a href='#Q2'>Question 2</a></li>\n",
    "<li><a href='#Q3'>Question 3</a></li>"
   ]
  },
  {
   "cell_type": "markdown",
   "id": "e37b3db9",
   "metadata": {},
   "source": [
    "Let's set up an example scenario as perspective for our regression exercises using the Zillow dataset.\n",
    "\n",
    "As a Codeup data science graduate, you want to show off your skills to the Zillow data science team in hopes of getting an interview for a position you saw pop up on LinkedIn. You thought it might look impressive to build an end-to-end project in which you use some of their Kaggle data to predict property values using some of their available features; who knows, you might even do some feature engineering to blow them away. Your goal is to predict the values of single unit properties using the obervations from 2017.\n",
    "\n",
    "In these exercises, you will complete the first step toward the above goal: acquire and prepare the necessary Zillow data from the zillow database in the Codeup database server."
   ]
  },
  {
   "cell_type": "markdown",
   "id": "fa310673",
   "metadata": {},
   "source": [
    "<a id='imports'></a>\n",
    "# IMPORTS:\n",
    "<li><a href='#TableOfContents'>Table of Contents</a></li>"
   ]
  },
  {
   "cell_type": "code",
   "execution_count": 1,
   "id": "8ecd352c",
   "metadata": {},
   "outputs": [],
   "source": [
    "# Vectorization and tables\n",
    "import numpy as np\n",
    "import pandas as pd\n",
    "\n",
    "# Visualization\n",
    "import matplotlib.pyplot as plt\n",
    "import seaborn as sns\n",
    "\n",
    "# Stats\n",
    "from scipy import stats\n",
    "\n",
    "# Connect to sql server\n",
    "import env\n",
    "import wrangle"
   ]
  },
  {
   "cell_type": "markdown",
   "id": "bddf13f2",
   "metadata": {},
   "source": [
    "<a id='Q1'></a>\n",
    "# Question 1\n",
    "<li><a href='#TableOfContents'>Table of Contents</a></li>"
   ]
  },
  {
   "cell_type": "markdown",
   "id": "11fe2fcf",
   "metadata": {},
   "source": [
    "### 1. Acquire bedroomcnt, bathroomcnt, calculatedfinishedsquarefeet, taxvaluedollarcnt, yearbuilt, taxamount, and fips from the zillow database for all 'Single Family Residential' properties."
   ]
  },
  {
   "cell_type": "code",
   "execution_count": 2,
   "id": "a2848947",
   "metadata": {},
   "outputs": [],
   "source": [
    "zillow = wrangle.acquire()"
   ]
  },
  {
   "cell_type": "code",
   "execution_count": 3,
   "id": "7582a8f4",
   "metadata": {},
   "outputs": [
    {
     "data": {
      "text/html": [
       "<div>\n",
       "<style scoped>\n",
       "    .dataframe tbody tr th:only-of-type {\n",
       "        vertical-align: middle;\n",
       "    }\n",
       "\n",
       "    .dataframe tbody tr th {\n",
       "        vertical-align: top;\n",
       "    }\n",
       "\n",
       "    .dataframe thead th {\n",
       "        text-align: right;\n",
       "    }\n",
       "</style>\n",
       "<table border=\"1\" class=\"dataframe\">\n",
       "  <thead>\n",
       "    <tr style=\"text-align: right;\">\n",
       "      <th></th>\n",
       "      <th>bedroomcnt</th>\n",
       "      <th>bathroomcnt</th>\n",
       "      <th>calculatedfinishedsquarefeet</th>\n",
       "      <th>taxvaluedollarcnt</th>\n",
       "      <th>yearbuilt</th>\n",
       "      <th>taxamount</th>\n",
       "      <th>fips</th>\n",
       "    </tr>\n",
       "  </thead>\n",
       "  <tbody>\n",
       "    <tr>\n",
       "      <th>1442147</th>\n",
       "      <td>3.0</td>\n",
       "      <td>2.5</td>\n",
       "      <td>2036.0</td>\n",
       "      <td>514072.0</td>\n",
       "      <td>1978.0</td>\n",
       "      <td>5149.92</td>\n",
       "      <td>6059.0</td>\n",
       "    </tr>\n",
       "    <tr>\n",
       "      <th>146790</th>\n",
       "      <td>3.0</td>\n",
       "      <td>2.0</td>\n",
       "      <td>1718.0</td>\n",
       "      <td>490000.0</td>\n",
       "      <td>1964.0</td>\n",
       "      <td>6160.78</td>\n",
       "      <td>6037.0</td>\n",
       "    </tr>\n",
       "    <tr>\n",
       "      <th>410467</th>\n",
       "      <td>3.0</td>\n",
       "      <td>2.0</td>\n",
       "      <td>1032.0</td>\n",
       "      <td>69534.0</td>\n",
       "      <td>1938.0</td>\n",
       "      <td>951.48</td>\n",
       "      <td>6037.0</td>\n",
       "    </tr>\n",
       "    <tr>\n",
       "      <th>714061</th>\n",
       "      <td>5.0</td>\n",
       "      <td>7.0</td>\n",
       "      <td>9828.0</td>\n",
       "      <td>7637390.0</td>\n",
       "      <td>1934.0</td>\n",
       "      <td>91860.96</td>\n",
       "      <td>6037.0</td>\n",
       "    </tr>\n",
       "    <tr>\n",
       "      <th>395726</th>\n",
       "      <td>3.0</td>\n",
       "      <td>1.0</td>\n",
       "      <td>1030.0</td>\n",
       "      <td>310660.0</td>\n",
       "      <td>1925.0</td>\n",
       "      <td>3989.00</td>\n",
       "      <td>6059.0</td>\n",
       "    </tr>\n",
       "  </tbody>\n",
       "</table>\n",
       "</div>"
      ],
      "text/plain": [
       "         bedroomcnt  bathroomcnt  calculatedfinishedsquarefeet  \\\n",
       "1442147         3.0          2.5                        2036.0   \n",
       "146790          3.0          2.0                        1718.0   \n",
       "410467          3.0          2.0                        1032.0   \n",
       "714061          5.0          7.0                        9828.0   \n",
       "395726          3.0          1.0                        1030.0   \n",
       "\n",
       "         taxvaluedollarcnt  yearbuilt  taxamount    fips  \n",
       "1442147           514072.0     1978.0    5149.92  6059.0  \n",
       "146790            490000.0     1964.0    6160.78  6037.0  \n",
       "410467             69534.0     1938.0     951.48  6037.0  \n",
       "714061           7637390.0     1934.0   91860.96  6037.0  \n",
       "395726            310660.0     1925.0    3989.00  6059.0  "
      ]
     },
     "execution_count": 3,
     "metadata": {},
     "output_type": "execute_result"
    }
   ],
   "source": [
    "zillow.sample(5)"
   ]
  },
  {
   "cell_type": "markdown",
   "id": "4252a8eb",
   "metadata": {},
   "source": [
    "<a id='Q2'></a>\n",
    "# Question 2\n",
    "<li><a href='#TableOfContents'>Table of Contents</a></li>"
   ]
  },
  {
   "cell_type": "markdown",
   "id": "21da40fc",
   "metadata": {},
   "source": [
    "### 2. Using your acquired Zillow data, walk through the summarization and cleaning steps in your wrangle.ipynb file like we did above. You may handle the missing values however you feel is appropriate and meaningful; remember to document your process and decisions using markdown and code commenting where helpful."
   ]
  },
  {
   "cell_type": "markdown",
   "id": "bf83f603",
   "metadata": {},
   "source": [
    "### Issues To Fix:\n",
    "\n",
    "- Column Types\n",
    "    - bedroomcnt\n",
    "        - Float to int(19 - categorical)\n",
    "        - 1-16, 18, 25\n",
    "    - bathroomcnt\n",
    "        - Float(38 - categorical)?\n",
    "        - 0-20, 32\n",
    "        - 0.5-12.5, 14.5, 19.5\n",
    "        - 1.75\n",
    "    - taxvaluedollarcount\n",
    "        - Float(10580 - categorical)?\n",
    "    - yearbuilt\n",
    "        - Float to int(153 - categorical)?\n",
    "    - fips\n",
    "        - Float to object(3 - categorical)\n",
    "        - 6037, 6059, 6111\n",
    "- Column Values\n",
    "    - bedroomcnt\n",
    "        - 11 na\n",
    "        - Fill with mode\n",
    "    - bathroomcnt\n",
    "        - 11 na\n",
    "        - Fill with mode\n",
    "    - calculatedfinishedsquarefeet\n",
    "        - 8484 na\n",
    "        - Fill with mean\n",
    "    - taxvaluedollarcount\n",
    "        - 493 na\n",
    "        - Fill with mean\n",
    "    - yearbuilt\n",
    "        - 9337 na\n",
    "        - Fill with ?\n",
    "    - taxamount\n",
    "        - 4442 na\n",
    "        - Fill with mean"
   ]
  },
  {
   "cell_type": "code",
   "execution_count": 5,
   "id": "9e57e8f9",
   "metadata": {},
   "outputs": [
    {
     "data": {
      "text/plain": [
       "bedroomcnt                      float64\n",
       "bathroomcnt                     float64\n",
       "calculatedfinishedsquarefeet    float64\n",
       "taxvaluedollarcnt               float64\n",
       "yearbuilt                       float64\n",
       "taxamount                       float64\n",
       "fips                            float64\n",
       "dtype: object"
      ]
     },
     "execution_count": 5,
     "metadata": {},
     "output_type": "execute_result"
    }
   ],
   "source": [
    "zillow.dtypes"
   ]
  },
  {
   "cell_type": "code",
   "execution_count": 34,
   "id": "81e51faa",
   "metadata": {},
   "outputs": [
    {
     "data": {
      "text/plain": [
       "6037.0    1431811\n",
       "6059.0     555077\n",
       "6111.0     165975\n",
       "Name: fips, dtype: int64"
      ]
     },
     "execution_count": 34,
     "metadata": {},
     "output_type": "execute_result"
    }
   ],
   "source": [
    "zillow.fips.value_counts()"
   ]
  },
  {
   "cell_type": "markdown",
   "id": "744a0ea3",
   "metadata": {},
   "source": [
    "<a id='Q3'></a>\n",
    "# Question 3\n",
    "<li><a href='#TableOfContents'>Table of Contents</a></li>"
   ]
  },
  {
   "cell_type": "markdown",
   "id": "a700f230",
   "metadata": {},
   "source": [
    "### 3. Store all of the necessary functions to automate your process from acquiring the data to returning a cleaned dataframe with no missing values in your wrangle.py file. Name your final function wrangle_zillow."
   ]
  },
  {
   "cell_type": "code",
   "execution_count": null,
   "id": "a4754b35",
   "metadata": {},
   "outputs": [],
   "source": []
  }
 ],
 "metadata": {
  "kernelspec": {
   "display_name": "Python 3 (ipykernel)",
   "language": "python",
   "name": "python3"
  },
  "language_info": {
   "codemirror_mode": {
    "name": "ipython",
    "version": 3
   },
   "file_extension": ".py",
   "mimetype": "text/x-python",
   "name": "python",
   "nbconvert_exporter": "python",
   "pygments_lexer": "ipython3",
   "version": "3.9.13"
  }
 },
 "nbformat": 4,
 "nbformat_minor": 5
}

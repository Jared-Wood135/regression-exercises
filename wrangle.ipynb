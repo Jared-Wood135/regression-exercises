{
 "cells": [
  {
   "cell_type": "markdown",
   "id": "ba2b0b0c",
   "metadata": {},
   "source": [
    "<a id=\"TableOfContents\"></a>\n",
    "# TABLE OF CONTENTS:\n",
    "<li><a href='#imports'>Imports</a></li>\n",
    "<li><a href=\"#Q1\">Question 1</a></li>\n",
    "<li><a href='#Q2'>Question 2</a></li>\n",
    "<li><a href='#Q3'>Question 3</a></li>"
   ]
  },
  {
   "cell_type": "markdown",
   "id": "de7e26cf",
   "metadata": {},
   "source": [
    "Let's set up an example scenario as perspective for our regression exercises using the Zillow dataset.\n",
    "\n",
    "As a Codeup data science graduate, you want to show off your skills to the Zillow data science team in hopes of getting an interview for a position you saw pop up on LinkedIn. You thought it might look impressive to build an end-to-end project in which you use some of their Kaggle data to predict property values using some of their available features; who knows, you might even do some feature engineering to blow them away. Your goal is to predict the values of single unit properties using the obervations from 2017.\n",
    "\n",
    "In these exercises, you will complete the first step toward the above goal: acquire and prepare the necessary Zillow data from the zillow database in the Codeup database server."
   ]
  },
  {
   "cell_type": "markdown",
   "id": "36bf77ca",
   "metadata": {},
   "source": [
    "<a id='imports'></a>\n",
    "# IMPORTS:\n",
    "<li><a href='#TableOfContents'>Table of Contents</a></li>"
   ]
  },
  {
   "cell_type": "code",
   "execution_count": 1,
   "id": "9402b712",
   "metadata": {},
   "outputs": [],
   "source": [
    "# Vectorization and tables\n",
    "import numpy as np\n",
    "import pandas as pd\n",
    "\n",
    "# Visualization\n",
    "import matplotlib.pyplot as plt\n",
    "import seaborn as sns\n",
    "\n",
    "# Stats\n",
    "from scipy import stats\n",
    "\n",
    "# Connect to sql server\n",
    "import env\n",
    "\n",
    "# .py files\n",
    "import wrangle"
   ]
  },
  {
   "cell_type": "markdown",
   "id": "67d13852",
   "metadata": {},
   "source": [
    "<a id='Q1'></a>\n",
    "# Question 1\n",
    "<li><a href='#TableOfContents'>Table of Contents</a></li>"
   ]
  },
  {
   "cell_type": "markdown",
   "id": "2b68d066",
   "metadata": {},
   "source": [
    "### 1. Acquire bedroomcnt, bathroomcnt, calculatedfinishedsquarefeet, taxvaluedollarcnt, yearbuilt, taxamount, and fips from the zillow database for all 'Single Family Residential' properties."
   ]
  },
  {
   "cell_type": "code",
   "execution_count": 2,
   "id": "4c37fe20",
   "metadata": {},
   "outputs": [],
   "source": [
    "zillow = wrangle.acquire()"
   ]
  },
  {
   "cell_type": "code",
   "execution_count": 3,
   "id": "90794552",
   "metadata": {},
   "outputs": [
    {
     "data": {
      "text/html": [
       "<div>\n",
       "<style scoped>\n",
       "    .dataframe tbody tr th:only-of-type {\n",
       "        vertical-align: middle;\n",
       "    }\n",
       "\n",
       "    .dataframe tbody tr th {\n",
       "        vertical-align: top;\n",
       "    }\n",
       "\n",
       "    .dataframe thead th {\n",
       "        text-align: right;\n",
       "    }\n",
       "</style>\n",
       "<table border=\"1\" class=\"dataframe\">\n",
       "  <thead>\n",
       "    <tr style=\"text-align: right;\">\n",
       "      <th></th>\n",
       "      <th>bedroomcnt</th>\n",
       "      <th>bathroomcnt</th>\n",
       "      <th>calculatedfinishedsquarefeet</th>\n",
       "      <th>taxvaluedollarcnt</th>\n",
       "      <th>yearbuilt</th>\n",
       "      <th>taxamount</th>\n",
       "      <th>fips</th>\n",
       "    </tr>\n",
       "  </thead>\n",
       "  <tbody>\n",
       "    <tr>\n",
       "      <th>1121390</th>\n",
       "      <td>4.0</td>\n",
       "      <td>3.0</td>\n",
       "      <td>1964.0</td>\n",
       "      <td>298738.0</td>\n",
       "      <td>1951.0</td>\n",
       "      <td>3655.70</td>\n",
       "      <td>6037.0</td>\n",
       "    </tr>\n",
       "    <tr>\n",
       "      <th>208118</th>\n",
       "      <td>2.0</td>\n",
       "      <td>2.0</td>\n",
       "      <td>1319.0</td>\n",
       "      <td>57523.0</td>\n",
       "      <td>1941.0</td>\n",
       "      <td>793.17</td>\n",
       "      <td>6037.0</td>\n",
       "    </tr>\n",
       "    <tr>\n",
       "      <th>193232</th>\n",
       "      <td>3.0</td>\n",
       "      <td>2.5</td>\n",
       "      <td>1495.0</td>\n",
       "      <td>588000.0</td>\n",
       "      <td>1998.0</td>\n",
       "      <td>8596.38</td>\n",
       "      <td>6059.0</td>\n",
       "    </tr>\n",
       "    <tr>\n",
       "      <th>1707606</th>\n",
       "      <td>1.0</td>\n",
       "      <td>1.0</td>\n",
       "      <td>973.0</td>\n",
       "      <td>188245.0</td>\n",
       "      <td>1939.0</td>\n",
       "      <td>2498.62</td>\n",
       "      <td>6037.0</td>\n",
       "    </tr>\n",
       "    <tr>\n",
       "      <th>1220827</th>\n",
       "      <td>3.0</td>\n",
       "      <td>2.0</td>\n",
       "      <td>1252.0</td>\n",
       "      <td>192528.0</td>\n",
       "      <td>1923.0</td>\n",
       "      <td>2535.11</td>\n",
       "      <td>6037.0</td>\n",
       "    </tr>\n",
       "  </tbody>\n",
       "</table>\n",
       "</div>"
      ],
      "text/plain": [
       "         bedroomcnt  bathroomcnt  calculatedfinishedsquarefeet  \\\n",
       "1121390         4.0          3.0                        1964.0   \n",
       "208118          2.0          2.0                        1319.0   \n",
       "193232          3.0          2.5                        1495.0   \n",
       "1707606         1.0          1.0                         973.0   \n",
       "1220827         3.0          2.0                        1252.0   \n",
       "\n",
       "         taxvaluedollarcnt  yearbuilt  taxamount    fips  \n",
       "1121390           298738.0     1951.0    3655.70  6037.0  \n",
       "208118             57523.0     1941.0     793.17  6037.0  \n",
       "193232            588000.0     1998.0    8596.38  6059.0  \n",
       "1707606           188245.0     1939.0    2498.62  6037.0  \n",
       "1220827           192528.0     1923.0    2535.11  6037.0  "
      ]
     },
     "execution_count": 3,
     "metadata": {},
     "output_type": "execute_result"
    }
   ],
   "source": [
    "zillow.sample(5)"
   ]
  },
  {
   "cell_type": "markdown",
   "id": "ea55b45b",
   "metadata": {},
   "source": [
    "<a id='Q2'></a>\n",
    "# Question 2\n",
    "<li><a href='#TableOfContents'>Table of Contents</a></li>"
   ]
  },
  {
   "cell_type": "markdown",
   "id": "03c03a4b",
   "metadata": {},
   "source": [
    "### 2. Using your acquired Zillow data, walk through the summarization and cleaning steps in your wrangle.ipynb file like we did above. You may handle the missing values however you feel is appropriate and meaningful; remember to document your process and decisions using markdown and code commenting where helpful."
   ]
  },
  {
   "cell_type": "markdown",
   "id": "6cd56bc9",
   "metadata": {},
   "source": [
    "### Issues To Fix:\n",
    "\n",
    "- Column Types\n",
    "    - bedroomcnt\n",
    "        - Float to int(19 - categorical)\n",
    "        - 1-16, 18, 25\n",
    "    - bathroomcnt\n",
    "        - Float(38 - categorical)?\n",
    "        - 0-20, 32\n",
    "        - 0.5-12.5, 14.5, 19.5\n",
    "        - 1.75\n",
    "    - taxvaluedollarcount\n",
    "        - Float(10580 - categorical)?\n",
    "    - yearbuilt\n",
    "        - Float to int(153 - categorical)?\n",
    "    - fips\n",
    "        - Float to object(3 - categorical)\n",
    "        - 6037, 6059, 6111\n",
    "- Column Values\n",
    "    - bedroomcnt\n",
    "        - 11 na\n",
    "        - Fill with mode\n",
    "    - bathroomcnt\n",
    "        - 11 na\n",
    "        - Fill with mode\n",
    "    - calculatedfinishedsquarefeet\n",
    "        - 8484 na\n",
    "        - Fill with mean\n",
    "    - taxvaluedollarcount\n",
    "        - 493 na\n",
    "        - Fill with mean\n",
    "    - yearbuilt\n",
    "        - 9337 na\n",
    "        - Fill with ?\n",
    "    - taxamount\n",
    "        - 4442 na\n",
    "        - Fill with mean"
   ]
  },
  {
   "cell_type": "code",
   "execution_count": 4,
   "id": "2be8cfc8",
   "metadata": {},
   "outputs": [],
   "source": [
    "# Fix bedroomcnt\n",
    "# Fill na with mode (3.0)\n",
    "# Change float to int type\n",
    "\n",
    "# Fix bathroomcnt\n",
    "# Fill na with mode (2.0)\n",
    "\n",
    "# Fix calculatedfinishedsquarefeet\n",
    "# Rename sqrft\n",
    "# Fill na with mean (1862.9)\n",
    "\n",
    "# Fix taxvaluedollarcnt\n",
    "# Rename assessedvalue\n",
    "# Fill na with mean(461896.2)\n",
    "\n",
    "# Fix yearbuilt\n",
    "# Fill na with mode (1955)\n",
    "# Change float to int type\n",
    "\n",
    "# Fix taxamount\n",
    "# Fill na with mean (5634.87)\n",
    "\n",
    "# Fix fips\n",
    "# Rename county\n",
    "# Codes to county names\n",
    "# 6037 Los Angeles\n",
    "# 6059 Orange\n",
    "# 6111 Ventura\n",
    "\n",
    "# Add state column\n",
    "# All values are California\n",
    "\n",
    "# Get dummy values for ONLY county\n",
    "\n",
    "# Test wrangle.prepare() function\n",
    "zillow = wrangle.prepare()"
   ]
  },
  {
   "cell_type": "code",
   "execution_count": 5,
   "id": "348c6acd",
   "metadata": {},
   "outputs": [
    {
     "data": {
      "text/plain": [
       "bedroomcnt              int64\n",
       "bathroomcnt           float64\n",
       "sqrft                 float64\n",
       "assessedvalue         float64\n",
       "yearbuilt               int64\n",
       "taxamount             float64\n",
       "county                 object\n",
       "state                  object\n",
       "county_Los Angeles      uint8\n",
       "county_Orange           uint8\n",
       "county_Ventura          uint8\n",
       "dtype: object"
      ]
     },
     "execution_count": 5,
     "metadata": {},
     "output_type": "execute_result"
    }
   ],
   "source": [
    "# Verify dtypes changed\n",
    "zillow.dtypes"
   ]
  },
  {
   "cell_type": "code",
   "execution_count": 6,
   "id": "970a72d1",
   "metadata": {},
   "outputs": [
    {
     "data": {
      "text/plain": [
       "bedroomcnt            0\n",
       "bathroomcnt           0\n",
       "sqrft                 0\n",
       "assessedvalue         0\n",
       "yearbuilt             0\n",
       "taxamount             0\n",
       "county                0\n",
       "state                 0\n",
       "county_Los Angeles    0\n",
       "county_Orange         0\n",
       "county_Ventura        0\n",
       "dtype: int64"
      ]
     },
     "execution_count": 6,
     "metadata": {},
     "output_type": "execute_result"
    }
   ],
   "source": [
    "# Verify no nulls/na values\n",
    "zillow.isna().sum()"
   ]
  },
  {
   "cell_type": "markdown",
   "id": "380caa6a",
   "metadata": {},
   "source": [
    "<a id='Q3'></a>\n",
    "# Question 3\n",
    "<li><a href='#TableOfContents'>Table of Contents</a></li>"
   ]
  },
  {
   "cell_type": "markdown",
   "id": "8021f8ac",
   "metadata": {},
   "source": [
    "### 3. Store all of the necessary functions to automate your process from acquiring the data to returning a cleaned dataframe with no missing values in your wrangle.py file. Name your final function wrangle_zillow."
   ]
  },
  {
   "cell_type": "code",
   "execution_count": 7,
   "id": "bffab666",
   "metadata": {},
   "outputs": [
    {
     "name": "stdout",
     "output_type": "stream",
     "text": [
      "\u001b[32mDAS IS COMPLETED JA\u001b[0m\n"
     ]
    }
   ],
   "source": [
    "print('\\033[32mDAS IS COMPLETED JA\\033[0m')"
   ]
  },
  {
   "cell_type": "code",
   "execution_count": 8,
   "id": "7fdf38c2",
   "metadata": {},
   "outputs": [
    {
     "data": {
      "text/html": [
       "<div>\n",
       "<style scoped>\n",
       "    .dataframe tbody tr th:only-of-type {\n",
       "        vertical-align: middle;\n",
       "    }\n",
       "\n",
       "    .dataframe tbody tr th {\n",
       "        vertical-align: top;\n",
       "    }\n",
       "\n",
       "    .dataframe thead th {\n",
       "        text-align: right;\n",
       "    }\n",
       "</style>\n",
       "<table border=\"1\" class=\"dataframe\">\n",
       "  <thead>\n",
       "    <tr style=\"text-align: right;\">\n",
       "      <th></th>\n",
       "      <th>bedroomcnt</th>\n",
       "      <th>bathroomcnt</th>\n",
       "      <th>sqrft</th>\n",
       "      <th>assessedvalue</th>\n",
       "      <th>yearbuilt</th>\n",
       "      <th>taxamount</th>\n",
       "      <th>county</th>\n",
       "      <th>state</th>\n",
       "      <th>county_Los Angeles</th>\n",
       "      <th>county_Orange</th>\n",
       "      <th>county_Ventura</th>\n",
       "    </tr>\n",
       "  </thead>\n",
       "  <tbody>\n",
       "    <tr>\n",
       "      <th>296527</th>\n",
       "      <td>2</td>\n",
       "      <td>2.0</td>\n",
       "      <td>1650.0</td>\n",
       "      <td>319689.0</td>\n",
       "      <td>1937</td>\n",
       "      <td>3889.62</td>\n",
       "      <td>Los Angeles</td>\n",
       "      <td>California</td>\n",
       "      <td>1</td>\n",
       "      <td>0</td>\n",
       "      <td>0</td>\n",
       "    </tr>\n",
       "  </tbody>\n",
       "</table>\n",
       "</div>"
      ],
      "text/plain": [
       "        bedroomcnt  bathroomcnt   sqrft  assessedvalue  yearbuilt  taxamount  \\\n",
       "296527           2          2.0  1650.0       319689.0       1937    3889.62   \n",
       "\n",
       "             county       state  county_Los Angeles  county_Orange  \\\n",
       "296527  Los Angeles  California                   1              0   \n",
       "\n",
       "        county_Ventura  \n",
       "296527               0  "
      ]
     },
     "execution_count": 8,
     "metadata": {},
     "output_type": "execute_result"
    }
   ],
   "source": [
    "wrangle_zillow = wrangle.wrangle_zillow()\n",
    "wrangle_zillow.sample()"
   ]
  },
  {
   "cell_type": "code",
   "execution_count": null,
   "id": "b72fe5fe",
   "metadata": {},
   "outputs": [],
   "source": []
  }
 ],
 "metadata": {
  "kernelspec": {
   "display_name": "Python 3 (ipykernel)",
   "language": "python",
   "name": "python3"
  },
  "language_info": {
   "codemirror_mode": {
    "name": "ipython",
    "version": 3
   },
   "file_extension": ".py",
   "mimetype": "text/x-python",
   "name": "python",
   "nbconvert_exporter": "python",
   "pygments_lexer": "ipython3",
   "version": "3.9.13"
  }
 },
 "nbformat": 4,
 "nbformat_minor": 5
}

{
 "cells": [
  {
   "cell_type": "markdown",
   "id": "ee5615ae",
   "metadata": {},
   "source": [
    "<a id=\"TableOfContents\"></a>\n",
    "# TABLE OF CONTENTS:\n",
    "<li><a href='#imports'>Imports</a></li>\n",
    "<li><a href=\"#Q1\">Question 1</a></li>\n",
    "<li><a href='#Q2'>Question 2</a></li>\n",
    "<li><a href='#Q3'>Question 3</a></li>"
   ]
  },
  {
   "cell_type": "markdown",
   "id": "82a37635",
   "metadata": {},
   "source": [
    "Let's set up an example scenario as perspective for our regression exercises using the Zillow dataset.\n",
    "\n",
    "As a Codeup data science graduate, you want to show off your skills to the Zillow data science team in hopes of getting an interview for a position you saw pop up on LinkedIn. You thought it might look impressive to build an end-to-end project in which you use some of their Kaggle data to predict property values using some of their available features; who knows, you might even do some feature engineering to blow them away. Your goal is to predict the values of single unit properties using the obervations from 2017.\n",
    "\n",
    "In these exercises, you will complete the first step toward the above goal: acquire and prepare the necessary Zillow data from the zillow database in the Codeup database server."
   ]
  },
  {
   "cell_type": "markdown",
   "id": "db81dbda",
   "metadata": {},
   "source": [
    "<a id='imports'></a>\n",
    "# IMPORTS:\n",
    "<li><a href='#TableOfContents'>Table of Contents</a></li>"
   ]
  },
  {
   "cell_type": "code",
   "execution_count": 1,
   "id": "2cb3c4ba",
   "metadata": {},
   "outputs": [],
   "source": [
    "# Vectorization and tables\n",
    "import numpy as np\n",
    "import pandas as pd\n",
    "\n",
    "# Visualization\n",
    "import matplotlib.pyplot as plt\n",
    "import seaborn as sns\n",
    "\n",
    "# Stats\n",
    "from scipy import stats\n",
    "\n",
    "# Connect to sql server\n",
    "import env\n",
    "\n",
    "# .py files\n",
    "import wrangle"
   ]
  },
  {
   "cell_type": "markdown",
   "id": "7e24d250",
   "metadata": {},
   "source": [
    "<a id='Q1'></a>\n",
    "# Question 1\n",
    "<li><a href='#TableOfContents'>Table of Contents</a></li>"
   ]
  },
  {
   "cell_type": "markdown",
   "id": "605cfda3",
   "metadata": {},
   "source": [
    "### 1. Acquire bedroomcnt, bathroomcnt, calculatedfinishedsquarefeet, taxvaluedollarcnt, yearbuilt, taxamount, and fips from the zillow database for all 'Single Family Residential' properties."
   ]
  },
  {
   "cell_type": "code",
   "execution_count": 2,
   "id": "a5f0dbfd",
   "metadata": {},
   "outputs": [],
   "source": [
    "zillow = wrangle.acquire()"
   ]
  },
  {
   "cell_type": "code",
   "execution_count": 3,
   "id": "0a5af93f",
   "metadata": {},
   "outputs": [
    {
     "data": {
      "text/html": [
       "<div>\n",
       "<style scoped>\n",
       "    .dataframe tbody tr th:only-of-type {\n",
       "        vertical-align: middle;\n",
       "    }\n",
       "\n",
       "    .dataframe tbody tr th {\n",
       "        vertical-align: top;\n",
       "    }\n",
       "\n",
       "    .dataframe thead th {\n",
       "        text-align: right;\n",
       "    }\n",
       "</style>\n",
       "<table border=\"1\" class=\"dataframe\">\n",
       "  <thead>\n",
       "    <tr style=\"text-align: right;\">\n",
       "      <th></th>\n",
       "      <th>bedroomcnt</th>\n",
       "      <th>bathroomcnt</th>\n",
       "      <th>calculatedfinishedsquarefeet</th>\n",
       "      <th>taxvaluedollarcnt</th>\n",
       "      <th>yearbuilt</th>\n",
       "      <th>taxamount</th>\n",
       "      <th>fips</th>\n",
       "      <th>propertylandusedesc</th>\n",
       "    </tr>\n",
       "  </thead>\n",
       "  <tbody>\n",
       "    <tr>\n",
       "      <th>1531032</th>\n",
       "      <td>3.0</td>\n",
       "      <td>2.0</td>\n",
       "      <td>1234.0</td>\n",
       "      <td>56912.0</td>\n",
       "      <td>1952.0</td>\n",
       "      <td>736.13</td>\n",
       "      <td>6037.0</td>\n",
       "      <td>Single Family Residential</td>\n",
       "    </tr>\n",
       "    <tr>\n",
       "      <th>1885367</th>\n",
       "      <td>3.0</td>\n",
       "      <td>2.0</td>\n",
       "      <td>1400.0</td>\n",
       "      <td>176680.0</td>\n",
       "      <td>1955.0</td>\n",
       "      <td>2166.50</td>\n",
       "      <td>6037.0</td>\n",
       "      <td>Single Family Residential</td>\n",
       "    </tr>\n",
       "    <tr>\n",
       "      <th>1306871</th>\n",
       "      <td>3.0</td>\n",
       "      <td>2.0</td>\n",
       "      <td>1143.0</td>\n",
       "      <td>287662.0</td>\n",
       "      <td>1920.0</td>\n",
       "      <td>3544.41</td>\n",
       "      <td>6037.0</td>\n",
       "      <td>Single Family Residential</td>\n",
       "    </tr>\n",
       "    <tr>\n",
       "      <th>261445</th>\n",
       "      <td>3.0</td>\n",
       "      <td>2.0</td>\n",
       "      <td>1325.0</td>\n",
       "      <td>902000.0</td>\n",
       "      <td>1948.0</td>\n",
       "      <td>10942.65</td>\n",
       "      <td>6037.0</td>\n",
       "      <td>Single Family Residential</td>\n",
       "    </tr>\n",
       "    <tr>\n",
       "      <th>1985480</th>\n",
       "      <td>3.0</td>\n",
       "      <td>2.0</td>\n",
       "      <td>1323.0</td>\n",
       "      <td>51722.0</td>\n",
       "      <td>1943.0</td>\n",
       "      <td>1482.15</td>\n",
       "      <td>6037.0</td>\n",
       "      <td>Single Family Residential</td>\n",
       "    </tr>\n",
       "  </tbody>\n",
       "</table>\n",
       "</div>"
      ],
      "text/plain": [
       "         bedroomcnt  bathroomcnt  calculatedfinishedsquarefeet  \\\n",
       "1531032         3.0          2.0                        1234.0   \n",
       "1885367         3.0          2.0                        1400.0   \n",
       "1306871         3.0          2.0                        1143.0   \n",
       "261445          3.0          2.0                        1325.0   \n",
       "1985480         3.0          2.0                        1323.0   \n",
       "\n",
       "         taxvaluedollarcnt  yearbuilt  taxamount    fips  \\\n",
       "1531032            56912.0     1952.0     736.13  6037.0   \n",
       "1885367           176680.0     1955.0    2166.50  6037.0   \n",
       "1306871           287662.0     1920.0    3544.41  6037.0   \n",
       "261445            902000.0     1948.0   10942.65  6037.0   \n",
       "1985480            51722.0     1943.0    1482.15  6037.0   \n",
       "\n",
       "               propertylandusedesc  \n",
       "1531032  Single Family Residential  \n",
       "1885367  Single Family Residential  \n",
       "1306871  Single Family Residential  \n",
       "261445   Single Family Residential  \n",
       "1985480  Single Family Residential  "
      ]
     },
     "execution_count": 3,
     "metadata": {},
     "output_type": "execute_result"
    }
   ],
   "source": [
    "zillow.sample(5)"
   ]
  },
  {
   "cell_type": "markdown",
   "id": "42d4d1f1",
   "metadata": {},
   "source": [
    "<a id='Q2'></a>\n",
    "# Question 2\n",
    "<li><a href='#TableOfContents'>Table of Contents</a></li>"
   ]
  },
  {
   "cell_type": "markdown",
   "id": "108e9d22",
   "metadata": {},
   "source": [
    "### 2. Using your acquired Zillow data, walk through the summarization and cleaning steps in your wrangle.ipynb file like we did above. You may handle the missing values however you feel is appropriate and meaningful; remember to document your process and decisions using markdown and code commenting where helpful."
   ]
  },
  {
   "cell_type": "markdown",
   "id": "6db966ab",
   "metadata": {},
   "source": [
    "### Issues To Fix:\n",
    "\n",
    "- Column Types\n",
    "    - bedroomcnt\n",
    "        - Float to int(19 - categorical)\n",
    "        - 1-16, 18, 25\n",
    "    - bathroomcnt\n",
    "        - Float(38 - categorical)?\n",
    "        - 0-20, 32\n",
    "        - 0.5-12.5, 14.5, 19.5\n",
    "        - 1.75\n",
    "    - taxvaluedollarcount\n",
    "        - Float(10580 - categorical)?\n",
    "    - yearbuilt\n",
    "        - Float to int(153 - categorical)?\n",
    "    - fips\n",
    "        - Float to object(3 - categorical)\n",
    "        - 6037, 6059, 6111\n",
    "- Column Values\n",
    "    - bedroomcnt\n",
    "        - 11 na\n",
    "        - Fill with mode\n",
    "    - bathroomcnt\n",
    "        - 11 na\n",
    "        - Fill with mode\n",
    "    - calculatedfinishedsquarefeet\n",
    "        - 8484 na\n",
    "        - Fill with mean\n",
    "    - taxvaluedollarcount\n",
    "        - 493 na\n",
    "        - Fill with mean\n",
    "    - yearbuilt\n",
    "        - 9337 na\n",
    "        - Fill with ?\n",
    "    - taxamount\n",
    "        - 4442 na\n",
    "        - Fill with mean"
   ]
  },
  {
   "cell_type": "code",
   "execution_count": 4,
   "id": "fcec69cf",
   "metadata": {},
   "outputs": [],
   "source": [
    "# Fix bedroomcnt\n",
    "# Fill na with mode (3.0)\n",
    "# Change float to int type\n",
    "\n",
    "# Fix bathroomcnt\n",
    "# Fill na with mode (2.0)\n",
    "\n",
    "# Fix calculatedfinishedsquarefeet\n",
    "# Rename sqrft\n",
    "# Fill na with mean (1862.9)\n",
    "\n",
    "# Fix taxvaluedollarcnt\n",
    "# Rename assessedvalue\n",
    "# Fill na with mean(461896.2)\n",
    "\n",
    "# Fix yearbuilt\n",
    "# Fill na with mode (1955)\n",
    "# Change float to int type\n",
    "\n",
    "# Fix taxamount\n",
    "# Fill na with mean (5634.87)\n",
    "\n",
    "# Fix fips\n",
    "# Rename county\n",
    "# Codes to county names\n",
    "# 6037 Los Angeles\n",
    "# 6059 Orange\n",
    "# 6111 Ventura\n",
    "\n",
    "# Add state column\n",
    "# All values are California\n",
    "\n",
    "# Get dummy values for ONLY county\n",
    "\n",
    "# Test wrangle.prepare() function\n",
    "zillow = wrangle.prepare()"
   ]
  },
  {
   "cell_type": "code",
   "execution_count": 5,
   "id": "34f69020",
   "metadata": {},
   "outputs": [
    {
     "data": {
      "text/plain": [
       "bedroomcnt                                                  int64\n",
       "bathroomcnt                                               float64\n",
       "sqrft                                                     float64\n",
       "assessedvalue                                             float64\n",
       "yearbuilt                                                   int64\n",
       "taxamount                                                 float64\n",
       "county                                                     object\n",
       "propertylandusedesc                                        object\n",
       "state                                                      object\n",
       "county_Los Angeles                                          uint8\n",
       "county_Orange                                               uint8\n",
       "county_Ventura                                              uint8\n",
       "propertylandusedesc_Inferred Single Family Residential      uint8\n",
       "propertylandusedesc_Single Family Residential               uint8\n",
       "dtype: object"
      ]
     },
     "execution_count": 5,
     "metadata": {},
     "output_type": "execute_result"
    }
   ],
   "source": [
    "# Verify dtypes changed\n",
    "zillow.dtypes"
   ]
  },
  {
   "cell_type": "code",
   "execution_count": 6,
   "id": "a69baf35",
   "metadata": {},
   "outputs": [
    {
     "data": {
      "text/plain": [
       "bedroomcnt                                                0\n",
       "bathroomcnt                                               0\n",
       "sqrft                                                     0\n",
       "assessedvalue                                             0\n",
       "yearbuilt                                                 0\n",
       "taxamount                                                 0\n",
       "county                                                    0\n",
       "propertylandusedesc                                       0\n",
       "state                                                     0\n",
       "county_Los Angeles                                        0\n",
       "county_Orange                                             0\n",
       "county_Ventura                                            0\n",
       "propertylandusedesc_Inferred Single Family Residential    0\n",
       "propertylandusedesc_Single Family Residential             0\n",
       "dtype: int64"
      ]
     },
     "execution_count": 6,
     "metadata": {},
     "output_type": "execute_result"
    }
   ],
   "source": [
    "# Verify no nulls/na values\n",
    "zillow.isna().sum()"
   ]
  },
  {
   "cell_type": "markdown",
   "id": "c3eb0aa4",
   "metadata": {},
   "source": [
    "<a id='Q3'></a>\n",
    "# Question 3\n",
    "<li><a href='#TableOfContents'>Table of Contents</a></li>"
   ]
  },
  {
   "cell_type": "markdown",
   "id": "0b0c530e",
   "metadata": {},
   "source": [
    "### 3. Store all of the necessary functions to automate your process from acquiring the data to returning a cleaned dataframe with no missing values in your wrangle.py file. Name your final function wrangle_zillow."
   ]
  },
  {
   "cell_type": "code",
   "execution_count": 7,
   "id": "d0eea56a",
   "metadata": {},
   "outputs": [
    {
     "name": "stdout",
     "output_type": "stream",
     "text": [
      "\u001b[32mDAS IS COMPLETED JA\u001b[0m\n"
     ]
    }
   ],
   "source": [
    "print('\\033[32mDAS IS COMPLETED JA\\033[0m')"
   ]
  },
  {
   "cell_type": "code",
   "execution_count": 8,
   "id": "a55e0d9d",
   "metadata": {
    "scrolled": true
   },
   "outputs": [
    {
     "data": {
      "text/html": [
       "<div>\n",
       "<style scoped>\n",
       "    .dataframe tbody tr th:only-of-type {\n",
       "        vertical-align: middle;\n",
       "    }\n",
       "\n",
       "    .dataframe tbody tr th {\n",
       "        vertical-align: top;\n",
       "    }\n",
       "\n",
       "    .dataframe thead th {\n",
       "        text-align: right;\n",
       "    }\n",
       "</style>\n",
       "<table border=\"1\" class=\"dataframe\">\n",
       "  <thead>\n",
       "    <tr style=\"text-align: right;\">\n",
       "      <th></th>\n",
       "      <th>bedroomcnt</th>\n",
       "      <th>bathroomcnt</th>\n",
       "      <th>sqrft</th>\n",
       "      <th>assessedvalue</th>\n",
       "      <th>yearbuilt</th>\n",
       "      <th>taxamount</th>\n",
       "      <th>county</th>\n",
       "      <th>propertylandusedesc</th>\n",
       "      <th>state</th>\n",
       "      <th>county_Los Angeles</th>\n",
       "      <th>county_Orange</th>\n",
       "      <th>county_Ventura</th>\n",
       "      <th>propertylandusedesc_Inferred Single Family Residential</th>\n",
       "      <th>propertylandusedesc_Single Family Residential</th>\n",
       "    </tr>\n",
       "  </thead>\n",
       "  <tbody>\n",
       "    <tr>\n",
       "      <th>221167</th>\n",
       "      <td>3</td>\n",
       "      <td>1.0</td>\n",
       "      <td>1224.0</td>\n",
       "      <td>193304.0</td>\n",
       "      <td>1953</td>\n",
       "      <td>2828.99</td>\n",
       "      <td>Los Angeles</td>\n",
       "      <td>Single Family Residential</td>\n",
       "      <td>California</td>\n",
       "      <td>1</td>\n",
       "      <td>0</td>\n",
       "      <td>0</td>\n",
       "      <td>0</td>\n",
       "      <td>1</td>\n",
       "    </tr>\n",
       "  </tbody>\n",
       "</table>\n",
       "</div>"
      ],
      "text/plain": [
       "        bedroomcnt  bathroomcnt   sqrft  assessedvalue  yearbuilt  taxamount  \\\n",
       "221167           3          1.0  1224.0       193304.0       1953    2828.99   \n",
       "\n",
       "             county        propertylandusedesc       state  \\\n",
       "221167  Los Angeles  Single Family Residential  California   \n",
       "\n",
       "        county_Los Angeles  county_Orange  county_Ventura  \\\n",
       "221167                   1              0               0   \n",
       "\n",
       "        propertylandusedesc_Inferred Single Family Residential  \\\n",
       "221167                                                  0        \n",
       "\n",
       "        propertylandusedesc_Single Family Residential  \n",
       "221167                                              1  "
      ]
     },
     "execution_count": 8,
     "metadata": {},
     "output_type": "execute_result"
    }
   ],
   "source": [
    "wrangle_zillow = wrangle.wrangle_zillow()\n",
    "wrangle_zillow.sample()"
   ]
  },
  {
   "cell_type": "code",
   "execution_count": null,
   "id": "f7b46743",
   "metadata": {},
   "outputs": [],
   "source": []
  }
 ],
 "metadata": {
  "kernelspec": {
   "display_name": "Python 3 (ipykernel)",
   "language": "python",
   "name": "python3"
  },
  "language_info": {
   "codemirror_mode": {
    "name": "ipython",
    "version": 3
   },
   "file_extension": ".py",
   "mimetype": "text/x-python",
   "name": "python",
   "nbconvert_exporter": "python",
   "pygments_lexer": "ipython3",
   "version": "3.9.13"
  }
 },
 "nbformat": 4,
 "nbformat_minor": 5
}

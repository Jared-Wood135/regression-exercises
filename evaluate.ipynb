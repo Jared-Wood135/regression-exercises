{
 "cells": [
  {
   "cell_type": "markdown",
   "id": "f8d17502",
   "metadata": {},
   "source": [
    "<a id=\"TableOfContents\"></a>\n",
    "# TABLE OF CONTENTS:\n",
    "<li><a href='#imports'>Imports</a></li>\n",
    "<li><a href=\"#Q1\">Question 1</a></li>\n",
    "<li><a href='#Q2'>Question 2</a></li>\n",
    "<li><a href='#Q3'>Question 3</a></li>\n",
    "<li><a href=\"#Q4\">Question 4</a></li>\n",
    "<li><a href='#Q5'>Question 5</a></li>\n",
    "<li><a href='#Q6'>Question 6</a></li>\n",
    "<li><a href=\"#Q7\">Question 7</a></li>\n",
    "<li><a href='#Q8'>Question 8</a></li>\n",
    "<li><a href='#Q9'>Question 9</a></li>\n",
    "<li><a href='#bonus1'>Bonus Question 1</a></li>\n",
    "<li><a href='#bonus2'>Bonus Question 2</a></li>"
   ]
  },
  {
   "cell_type": "markdown",
   "id": "af8bfb89",
   "metadata": {},
   "source": [
    "Do you work for this exercise in either a jupyter notebook named evaluate within your regression-exercises repository. By the end of this exercise you will also create a python script named evaluate, so the overall deliverables for this exercise are the python script and jupyter notebook both with the name evaluate within your regression-exercises repo."
   ]
  },
  {
   "cell_type": "markdown",
   "id": "a61d5244",
   "metadata": {},
   "source": [
    "<a id='imports'></a>\n",
    "# IMPORTS:\n",
    "<li><a href='#TableOfContents'>Table of Contents</a></li>"
   ]
  },
  {
   "cell_type": "code",
   "execution_count": 1,
   "id": "93d39c4c",
   "metadata": {},
   "outputs": [],
   "source": [
    "# Vectorization and tables\n",
    "import numpy as np\n",
    "import pandas as pd\n",
    "\n",
    "# Visualization\n",
    "import matplotlib.pyplot as plt\n",
    "import seaborn as sns\n",
    "\n",
    "# Stats\n",
    "from scipy import stats\n",
    "\n",
    "# Datasets\n",
    "from pydataset import data\n",
    "\n",
    "# sklearn\n",
    "from sklearn.linear_model import LinearRegression\n",
    "from sklearn.metrics import r2_score, mean_squared_error\n",
    "\n",
    "# .py files\n",
    "import wrangle"
   ]
  },
  {
   "cell_type": "markdown",
   "id": "f9ee0f74",
   "metadata": {},
   "source": [
    "<a id='Q1'></a>\n",
    "# Question 1:\n",
    "<li><a href='#TableOfContents'>Table of Contents</a></li>"
   ]
  },
  {
   "cell_type": "markdown",
   "id": "a7c67ef4",
   "metadata": {},
   "source": [
    "### 1. Load your zillow dataset."
   ]
  },
  {
   "cell_type": "code",
   "execution_count": 2,
   "id": "3b3775c2",
   "metadata": {},
   "outputs": [
    {
     "name": "stdout",
     "output_type": "stream",
     "text": [
      "train.shape:(1069116, 12)\n",
      "validate.shape:(458193, 12)\n",
      "test.shape:(381828, 12)\n"
     ]
    }
   ],
   "source": [
    "# Get prepared dataframes\n",
    "train, validate, test = wrangle.wrangle_zillow()\n",
    "\n",
    "# Obtain a smaller version of each df\n",
    "train_sample = train.sample(int(len(train) * 0.001))\n",
    "validate_sample = validate.sample(int(len(validate) * 0.001))\n",
    "test_sample = test.sample(int(len(test) * 0.001))"
   ]
  },
  {
   "cell_type": "code",
   "execution_count": 3,
   "id": "f28d450b",
   "metadata": {},
   "outputs": [
    {
     "data": {
      "text/plain": [
       "((1069, 12), (458, 12), (381, 12))"
      ]
     },
     "execution_count": 3,
     "metadata": {},
     "output_type": "execute_result"
    }
   ],
   "source": [
    "# Verify samples\n",
    "train_sample.shape, validate_sample.shape, test_sample.shape"
   ]
  },
  {
   "cell_type": "markdown",
   "id": "7297ef47",
   "metadata": {},
   "source": [
    "<a id='Q2'></a>\n",
    "# Question 2:\n",
    "<li><a href='#TableOfContents'>Table of Contents</a></li>"
   ]
  },
  {
   "cell_type": "markdown",
   "id": "8e036455",
   "metadata": {},
   "source": [
    "### 2. Fit a linear regression model (ordinary least squares) and compute yhat, predictions of taxvaluedollarcnt using only calculatedfinishedsqft."
   ]
  },
  {
   "cell_type": "markdown",
   "id": "b81f2be1",
   "metadata": {},
   "source": [
    "Here is some sample code to get you started:\n",
    "\n",
    "from sklearn.linear_model import LinearRegression\n",
    "\n",
    "assuming X and y are already defined\n",
    "model = LinearRegression().fit(X, y)\n",
    "predictions = model.predict(X)\n",
    "\n",
    "Modify and add to the code above as necessary for it to work with the zillow dataset."
   ]
  },
  {
   "cell_type": "code",
   "execution_count": 4,
   "id": "2216e268",
   "metadata": {
    "scrolled": true
   },
   "outputs": [
    {
     "data": {
      "text/html": [
       "<div>\n",
       "<style scoped>\n",
       "    .dataframe tbody tr th:only-of-type {\n",
       "        vertical-align: middle;\n",
       "    }\n",
       "\n",
       "    .dataframe tbody tr th {\n",
       "        vertical-align: top;\n",
       "    }\n",
       "\n",
       "    .dataframe thead th {\n",
       "        text-align: right;\n",
       "    }\n",
       "</style>\n",
       "<table border=\"1\" class=\"dataframe\">\n",
       "  <thead>\n",
       "    <tr style=\"text-align: right;\">\n",
       "      <th></th>\n",
       "      <th>bedroomcnt</th>\n",
       "      <th>bathroomcnt</th>\n",
       "      <th>sqrft</th>\n",
       "      <th>assessedvalue</th>\n",
       "      <th>yearbuilt</th>\n",
       "      <th>taxamount</th>\n",
       "      <th>county_Los Angeles</th>\n",
       "      <th>county_Orange</th>\n",
       "      <th>county_Ventura</th>\n",
       "      <th>propertylandusedesc_Inferred Single Family Residential</th>\n",
       "      <th>propertylandusedesc_Single Family Residential</th>\n",
       "      <th>state_California</th>\n",
       "      <th>baseline</th>\n",
       "    </tr>\n",
       "  </thead>\n",
       "  <tbody>\n",
       "    <tr>\n",
       "      <th>1776839</th>\n",
       "      <td>-0.231552</td>\n",
       "      <td>-0.081614</td>\n",
       "      <td>-0.89017</td>\n",
       "      <td>314978.0</td>\n",
       "      <td>1982</td>\n",
       "      <td>-0.297062</td>\n",
       "      <td>0</td>\n",
       "      <td>0</td>\n",
       "      <td>1</td>\n",
       "      <td>0</td>\n",
       "      <td>1</td>\n",
       "      <td>1</td>\n",
       "      <td>343361.0</td>\n",
       "    </tr>\n",
       "  </tbody>\n",
       "</table>\n",
       "</div>"
      ],
      "text/plain": [
       "         bedroomcnt  bathroomcnt    sqrft  assessedvalue  yearbuilt  \\\n",
       "1776839   -0.231552    -0.081614 -0.89017       314978.0       1982   \n",
       "\n",
       "         taxamount  county_Los Angeles  county_Orange  county_Ventura  \\\n",
       "1776839  -0.297062                   0              0               1   \n",
       "\n",
       "         propertylandusedesc_Inferred Single Family Residential  \\\n",
       "1776839                                                       0   \n",
       "\n",
       "         propertylandusedesc_Single Family Residential  state_California  \\\n",
       "1776839                                              1                 1   \n",
       "\n",
       "         baseline  \n",
       "1776839  343361.0  "
      ]
     },
     "execution_count": 4,
     "metadata": {},
     "output_type": "execute_result"
    }
   ],
   "source": [
    "# Scale dfs and create a 'baseline' column\n",
    "train_sample_scaled, validate_sample_scaled, test_sample_scaled = wrangle.scale(train_sample, validate_sample, test_sample)\n",
    "train_sample_scaled['baseline'] = round(train_sample_scaled.assessedvalue.mean(), 0)\n",
    "train_sample_scaled.sample()"
   ]
  },
  {
   "cell_type": "code",
   "execution_count": 5,
   "id": "f5e65e47",
   "metadata": {},
   "outputs": [],
   "source": [
    "# Create 'x' (Predictors) and 'y' (Target)\n",
    "x_cols = [\n",
    "    'sqrft'\n",
    "]\n",
    "y_cols = [\n",
    "    'assessedvalue'\n",
    "]"
   ]
  },
  {
   "cell_type": "code",
   "execution_count": 6,
   "id": "6f6e29b1",
   "metadata": {},
   "outputs": [],
   "source": [
    "# Make the thing\n",
    "lm = LinearRegression()\n",
    "\n",
    "# Fit the thing\n",
    "lm.fit(train_sample_scaled[x_cols], train_sample_scaled[y_cols])\n",
    "\n",
    "# Use the thing\n",
    "train_sample_scaled['yhat'] = np.round(lm.predict(train_sample_scaled[x_cols]))"
   ]
  },
  {
   "cell_type": "code",
   "execution_count": 7,
   "id": "603254e8",
   "metadata": {},
   "outputs": [
    {
     "data": {
      "text/html": [
       "<div>\n",
       "<style scoped>\n",
       "    .dataframe tbody tr th:only-of-type {\n",
       "        vertical-align: middle;\n",
       "    }\n",
       "\n",
       "    .dataframe tbody tr th {\n",
       "        vertical-align: top;\n",
       "    }\n",
       "\n",
       "    .dataframe thead th {\n",
       "        text-align: right;\n",
       "    }\n",
       "</style>\n",
       "<table border=\"1\" class=\"dataframe\">\n",
       "  <thead>\n",
       "    <tr style=\"text-align: right;\">\n",
       "      <th></th>\n",
       "      <th>bedroomcnt</th>\n",
       "      <th>bathroomcnt</th>\n",
       "      <th>sqrft</th>\n",
       "      <th>assessedvalue</th>\n",
       "      <th>yearbuilt</th>\n",
       "      <th>taxamount</th>\n",
       "      <th>county_Los Angeles</th>\n",
       "      <th>county_Orange</th>\n",
       "      <th>county_Ventura</th>\n",
       "      <th>propertylandusedesc_Inferred Single Family Residential</th>\n",
       "      <th>propertylandusedesc_Single Family Residential</th>\n",
       "      <th>state_California</th>\n",
       "      <th>baseline</th>\n",
       "      <th>yhat</th>\n",
       "    </tr>\n",
       "  </thead>\n",
       "  <tbody>\n",
       "    <tr>\n",
       "      <th>1167109</th>\n",
       "      <td>-0.231552</td>\n",
       "      <td>-0.081614</td>\n",
       "      <td>-0.167969</td>\n",
       "      <td>838781.0</td>\n",
       "      <td>1953</td>\n",
       "      <td>2.209612</td>\n",
       "      <td>1</td>\n",
       "      <td>0</td>\n",
       "      <td>0</td>\n",
       "      <td>0</td>\n",
       "      <td>1</td>\n",
       "      <td>1</td>\n",
       "      <td>343361.0</td>\n",
       "      <td>324762.0</td>\n",
       "    </tr>\n",
       "  </tbody>\n",
       "</table>\n",
       "</div>"
      ],
      "text/plain": [
       "         bedroomcnt  bathroomcnt     sqrft  assessedvalue  yearbuilt  \\\n",
       "1167109   -0.231552    -0.081614 -0.167969       838781.0       1953   \n",
       "\n",
       "         taxamount  county_Los Angeles  county_Orange  county_Ventura  \\\n",
       "1167109   2.209612                   1              0               0   \n",
       "\n",
       "         propertylandusedesc_Inferred Single Family Residential  \\\n",
       "1167109                                                       0   \n",
       "\n",
       "         propertylandusedesc_Single Family Residential  state_California  \\\n",
       "1167109                                              1                 1   \n",
       "\n",
       "         baseline      yhat  \n",
       "1167109  343361.0  324762.0  "
      ]
     },
     "execution_count": 7,
     "metadata": {},
     "output_type": "execute_result"
    }
   ],
   "source": [
    "train_sample_scaled.sample()"
   ]
  },
  {
   "cell_type": "markdown",
   "id": "602b1c62",
   "metadata": {},
   "source": [
    "<a id='Q3'></a>\n",
    "# Question 3:\n",
    "<li><a href='#TableOfContents'>Table of Contents</a></li>"
   ]
  },
  {
   "cell_type": "markdown",
   "id": "7a0e36e4",
   "metadata": {},
   "source": [
    "### 3. Plot the residuals for the linear regression model that you made."
   ]
  },
  {
   "cell_type": "code",
   "execution_count": 24,
   "id": "62beb7ce",
   "metadata": {},
   "outputs": [
    {
     "data": {
      "image/png": "[encoded data removed]",
      "text/plain": [
       "<Figure size 640x480 with 1 Axes>"
      ]
     },
     "metadata": {},
     "output_type": "display_data"
    }
   ],
   "source": [
    "plt.scatter(data=train_sample_scaled, x='sqrft', y='assessedvalue')\n",
    "plt.axhline(train_sample_scaled.assessedvalue.mean(), color='red', linewidth=5, label='Baseline')\n",
    "plt.title('Baseline Model Visualization')\n",
    "plt.xlabel('Total Square Feet (SCALED)')\n",
    "plt.ylabel('Assessed Value (SCALED)')\n",
    "plt.legend()\n",
    "plt.show()"
   ]
  },
  {
   "cell_type": "code",
   "execution_count": 23,
   "id": "8f0852b5",
   "metadata": {},
   "outputs": [
    {
     "data": {
      "image/png": "[encoded data removed]",
      "text/plain": [
       "<Figure size 640x480 with 1 Axes>"
      ]
     },
     "metadata": {},
     "output_type": "display_data"
    }
   ],
   "source": [
    "plt.scatter(data=train_sample_scaled, x='sqrft', y='assessedvalue')\n",
    "plt.plot(train_sample_scaled[x_cols], train_sample_scaled['yhat'], color='red', linewidth=5, label='Prediction')\n",
    "plt.title('\"sqrft\" Predictor Model Visualization')\n",
    "plt.xlabel('Total Square Feet (SCALED)')\n",
    "plt.ylabel('Assessed Value (SCALED)')\n",
    "plt.legend()\n",
    "plt.show()"
   ]
  },
  {
   "cell_type": "markdown",
   "id": "93f73ef0",
   "metadata": {},
   "source": [
    "<a id='Q4'></a>\n",
    "# Question 4:\n",
    "<li><a href='#TableOfContents'>Table of Contents</a></li>"
   ]
  },
  {
   "cell_type": "markdown",
   "id": "67d8aa1f",
   "metadata": {},
   "source": [
    "### 4. Calculate the sum of squared errors, explained sum of squares, total sum of squares, mean squared error, and root mean squared error for your model."
   ]
  },
  {
   "cell_type": "markdown",
   "id": "bcfbef42",
   "metadata": {},
   "source": [
    "- Residuals\n",
    "    - Prediction - Actual\n",
    "- SSE (Sum of Squared Errors)\n",
    "    - Residuals, squared, summed\n",
    "    - sum((yhat_residual ** 2))\n",
    "    - sum((baseline_residual ** 2))\n",
    "- ESS (Explained Sum of Square)\n",
    "    - Pred/base, minus target mean, summed\n",
    "    - sum((yhat - y.mean()) ** 2)\n",
    "    - sum((baseline - y.mean()) ** 2)\n",
    "- TSS (Total Sum of Squares)\n",
    "    - SSE + ESS\n",
    "- MSE (Mean Squared Error)\n",
    "    - SSE / len(df)\n",
    "- RMSE (Root Mean Squared Error)\n",
    "    - MSE**.5"
   ]
  },
  {
   "cell_type": "code",
   "execution_count": 51,
   "id": "faa4d548",
   "metadata": {},
   "outputs": [],
   "source": [
    "def get_eval_stats(df, actual_col, baseline_col, prediction_col):\n",
    "    df['base_residual'] = df[baseline_col] - df[actual_col]\n",
    "    df['pred_residual'] = df[prediction_col] - df[actual_col]\n",
    "    SSE_base = (df.base_residual ** 2).sum()\n",
    "    SSE_pred = (df.pred_residual ** 2).sum()\n",
    "    SSE_diff = int(SSE_pred - SSE_base)\n",
    "    ESS_base = sum((df[baseline_col] - df[actual_col]) ** 2)\n",
    "    ESS_pred = sum((df[prediction_col] - df[actual_col]) ** 2)\n",
    "    ESS_diff = int(ESS_pred - ESS_base)\n",
    "    TSS_base = SSE_base + ESS_base\n",
    "    TSS_pred = SSE_pred + ESS_pred\n",
    "    TSS_diff = int(TSS_pred - TSS_base)\n",
    "    MSE_base = SSE_base / len(df)\n",
    "    MSE_pred = SSE_pred / len(df)\n",
    "    MSE_diff = int(MSE_pred - MSE_base)\n",
    "    RMSE_base = MSE_base ** .5\n",
    "    RMSE_pred = MSE_pred ** .5\n",
    "    RMSE_diff = int(RMSE_pred - RMSE_base)\n",
    "    R2_base = ESS_base/TSS_base\n",
    "    R2_pred = ESS_pred/TSS_pred\n",
    "    R2_diff = R2_pred - R2_base\n",
    "    print(f'\\033[35m===== {baseline_col} =====\\033[0m\\n\\033[32mSSE:\\033[0m {SSE_base}\\n\\033[32mESS:\\033[0m {ESS_base}\\n\\033[32mTSS:\\033[0m {TSS_base}\\n\\033[32mMSE:\\033[0m {MSE_base}\\n\\033[32mRMSE:\\033[0m {RMSE_base}\\n\\033[32mR2:\\033[0m {R2_base}\\n')\n",
    "    print(f'\\033[35m===== {prediction_col} =====\\033[0m\\n\\033[32mSSE:\\033[0m {SSE_pred}\\n\\033[32mESS:\\033[0m {ESS_pred}\\n\\033[32mTSS:\\033[0m {TSS_pred}\\n\\033[32mMSE:\\033[0m {MSE_pred}\\n\\033[32mRMSE:\\033[0m {RMSE_pred}\\n\\033[32mR2:\\033[0m {R2_pred}\\n')\n",
    "    print(f'\\033[35m===== {prediction_col} - {baseline_col} =====\\033[0m\\n\\033[32mSSE:\\033[0m {SSE_diff}\\n\\033[32mESS:\\033[0m {ESS_diff}\\n\\033[32mTSS:\\033[0m {TSS_diff}\\n\\033[32mMSE:\\033[0m {MSE_diff}\\n\\033[32mRMSE:\\033[0m {RMSE_diff}\\n\\033[32mR2:\\033[0m {R2_diff}\\n')"
   ]
  },
  {
   "cell_type": "code",
   "execution_count": 52,
   "id": "a504301b",
   "metadata": {},
   "outputs": [
    {
     "name": "stdout",
     "output_type": "stream",
     "text": [
      "\u001b[35m===== baseline =====\u001b[0m\n",
      "\u001b[32mSSE:\u001b[0m 50866422188499.0\n",
      "\u001b[32mESS:\u001b[0m 50866422188499.0\n",
      "\u001b[32mTSS:\u001b[0m 101732844376998.0\n",
      "\u001b[32mMSE:\u001b[0m 47583182589.80262\n",
      "\u001b[32mRMSE:\u001b[0m 218135.6976512616\n",
      "\u001b[32mR2:\u001b[0m 0.5\n",
      "\n",
      "\u001b[35m===== yhat =====\u001b[0m\n",
      "\u001b[32mSSE:\u001b[0m 37759349430678.0\n",
      "\u001b[32mESS:\u001b[0m 37759349430678.0\n",
      "\u001b[32mTSS:\u001b[0m 75518698861356.0\n",
      "\u001b[32mMSE:\u001b[0m 35322122947.31338\n",
      "\u001b[32mRMSE:\u001b[0m 187941.8073428937\n",
      "\u001b[32mR2:\u001b[0m 0.5\n",
      "\n",
      "\u001b[35m===== yhat - baseline =====\u001b[0m\n",
      "\u001b[32mSSE:\u001b[0m -13107072757821\n",
      "\u001b[32mESS:\u001b[0m -13107072757821\n",
      "\u001b[32mTSS:\u001b[0m -26214145515642\n",
      "\u001b[32mMSE:\u001b[0m -12261059642\n",
      "\u001b[32mRMSE:\u001b[0m -30193\n",
      "\u001b[32mR2:\u001b[0m 0.0\n",
      "\n"
     ]
    }
   ],
   "source": [
    "get_eval_stats(train_sample_scaled, 'assessedvalue', 'baseline', 'yhat')"
   ]
  },
  {
   "cell_type": "markdown",
   "id": "4a944e4a",
   "metadata": {},
   "source": [
    "<a id='Q5'></a>\n",
    "# Question 5:\n",
    "<li><a href='#TableOfContents'>Table of Contents</a></li>"
   ]
  },
  {
   "cell_type": "markdown",
   "id": "abf085c6",
   "metadata": {},
   "source": [
    "### 5. Calculate the sum of squared errors, mean squared error, and root mean squared error for the baseline model (i.e. a model that always predicts the average taxvaluedollarcnt amount)."
   ]
  },
  {
   "cell_type": "code",
   "execution_count": 53,
   "id": "fc6e75e5",
   "metadata": {},
   "outputs": [
    {
     "name": "stdout",
     "output_type": "stream",
     "text": [
      "\u001b[35m===== baseline =====\u001b[0m\n",
      "\u001b[32mSSE:\u001b[0m 50866422188499.0\n",
      "\u001b[32mESS:\u001b[0m 50866422188499.0\n",
      "\u001b[32mTSS:\u001b[0m 101732844376998.0\n",
      "\u001b[32mMSE:\u001b[0m 47583182589.80262\n",
      "\u001b[32mRMSE:\u001b[0m 218135.6976512616\n",
      "\u001b[32mR2:\u001b[0m 0.5\n",
      "\n",
      "\u001b[35m===== yhat =====\u001b[0m\n",
      "\u001b[32mSSE:\u001b[0m 37759349430678.0\n",
      "\u001b[32mESS:\u001b[0m 37759349430678.0\n",
      "\u001b[32mTSS:\u001b[0m 75518698861356.0\n",
      "\u001b[32mMSE:\u001b[0m 35322122947.31338\n",
      "\u001b[32mRMSE:\u001b[0m 187941.8073428937\n",
      "\u001b[32mR2:\u001b[0m 0.5\n",
      "\n",
      "\u001b[35m===== yhat - baseline =====\u001b[0m\n",
      "\u001b[32mSSE:\u001b[0m -13107072757821\n",
      "\u001b[32mESS:\u001b[0m -13107072757821\n",
      "\u001b[32mTSS:\u001b[0m -26214145515642\n",
      "\u001b[32mMSE:\u001b[0m -12261059642\n",
      "\u001b[32mRMSE:\u001b[0m -30193\n",
      "\u001b[32mR2:\u001b[0m 0.0\n",
      "\n"
     ]
    }
   ],
   "source": [
    "get_eval_stats(train_sample_scaled, 'assessedvalue', 'baseline', 'yhat')"
   ]
  },
  {
   "cell_type": "markdown",
   "id": "67363d81",
   "metadata": {},
   "source": [
    "<a id='Q6'></a>\n",
    "# Question 6:\n",
    "<li><a href='#TableOfContents'>Table of Contents</a></li>"
   ]
  },
  {
   "cell_type": "markdown",
   "id": "2275db97",
   "metadata": {},
   "source": [
    "### 6. Write python code that compares the sum of squared errors for your model against the sum of squared errors for the baseline model and outputs whether or not your model performs better than the baseline model."
   ]
  },
  {
   "cell_type": "code",
   "execution_count": 54,
   "id": "cc603cd1",
   "metadata": {},
   "outputs": [
    {
     "name": "stdout",
     "output_type": "stream",
     "text": [
      "\u001b[35m===== baseline =====\u001b[0m\n",
      "\u001b[32mSSE:\u001b[0m 50866422188499.0\n",
      "\u001b[32mESS:\u001b[0m 50866422188499.0\n",
      "\u001b[32mTSS:\u001b[0m 101732844376998.0\n",
      "\u001b[32mMSE:\u001b[0m 47583182589.80262\n",
      "\u001b[32mRMSE:\u001b[0m 218135.6976512616\n",
      "\u001b[32mR2:\u001b[0m 0.5\n",
      "\n",
      "\u001b[35m===== yhat =====\u001b[0m\n",
      "\u001b[32mSSE:\u001b[0m 37759349430678.0\n",
      "\u001b[32mESS:\u001b[0m 37759349430678.0\n",
      "\u001b[32mTSS:\u001b[0m 75518698861356.0\n",
      "\u001b[32mMSE:\u001b[0m 35322122947.31338\n",
      "\u001b[32mRMSE:\u001b[0m 187941.8073428937\n",
      "\u001b[32mR2:\u001b[0m 0.5\n",
      "\n",
      "\u001b[35m===== yhat - baseline =====\u001b[0m\n",
      "\u001b[32mSSE:\u001b[0m -13107072757821\n",
      "\u001b[32mESS:\u001b[0m -13107072757821\n",
      "\u001b[32mTSS:\u001b[0m -26214145515642\n",
      "\u001b[32mMSE:\u001b[0m -12261059642\n",
      "\u001b[32mRMSE:\u001b[0m -30193\n",
      "\u001b[32mR2:\u001b[0m 0.0\n",
      "\n"
     ]
    }
   ],
   "source": [
    "get_eval_stats(train_sample_scaled, 'assessedvalue', 'baseline', 'yhat')"
   ]
  },
  {
   "cell_type": "markdown",
   "id": "1a747950",
   "metadata": {},
   "source": [
    "<a id='Q7'></a>\n",
    "# Question 7:\n",
    "<li><a href='#TableOfContents'>Table of Contents</a></li>"
   ]
  },
  {
   "cell_type": "markdown",
   "id": "aff1fbf4",
   "metadata": {},
   "source": [
    "### 7. What is the amount of variance explained in your model?"
   ]
  },
  {
   "cell_type": "code",
   "execution_count": 55,
   "id": "a9f2c2e5",
   "metadata": {},
   "outputs": [
    {
     "data": {
      "text/plain": [
       "0.25767632544008523"
      ]
     },
     "execution_count": 55,
     "metadata": {},
     "output_type": "execute_result"
    }
   ],
   "source": [
    "r2_score(train_sample_scaled.assessedvalue, train_sample_scaled.yhat)"
   ]
  },
  {
   "cell_type": "markdown",
   "id": "c98d5889",
   "metadata": {},
   "source": [
    "<a id='Q8'></a>\n",
    "# Question 8:\n",
    "<li><a href='#TableOfContents'>Table of Contents</a></li>"
   ]
  },
  {
   "cell_type": "markdown",
   "id": "35c0d4f8",
   "metadata": {},
   "source": [
    "### 8. Is your model better than the baseline model?"
   ]
  },
  {
   "cell_type": "markdown",
   "id": "15a71889",
   "metadata": {},
   "source": [
    "IT BE BETTAH"
   ]
  },
  {
   "cell_type": "markdown",
   "id": "0bd4fae3",
   "metadata": {},
   "source": [
    "<a id='Q9'></a>\n",
    "# Question 9:\n",
    "<li><a href='#TableOfContents'>Table of Contents</a></li>"
   ]
  },
  {
   "cell_type": "markdown",
   "id": "e330e397",
   "metadata": {},
   "source": [
    "### 9 . Create a file named evaluate.py that contains the following functions."
   ]
  },
  {
   "cell_type": "markdown",
   "id": "400f1269",
   "metadata": {},
   "source": [
    "##### 9a. plot_residuals(y, yhat): creates a residual plot"
   ]
  },
  {
   "cell_type": "code",
   "execution_count": null,
   "id": "d1e0737a",
   "metadata": {},
   "outputs": [],
   "source": []
  },
  {
   "cell_type": "markdown",
   "id": "94adfa78",
   "metadata": {},
   "source": [
    "##### 9b. regression_errors(y, yhat): returns the following values:\n",
    "- sum of squared errors (SSE)\n",
    "- explained sum of squares (ESS)\n",
    "- total sum of squares (TSS)\n",
    "- mean squared error (MSE)\n",
    "- root mean squared error (RMSE)"
   ]
  },
  {
   "cell_type": "code",
   "execution_count": null,
   "id": "2d55355f",
   "metadata": {},
   "outputs": [],
   "source": []
  },
  {
   "cell_type": "markdown",
   "id": "3fe1bef9",
   "metadata": {},
   "source": [
    "##### 9c. baseline_mean_errors(y): computes the SSE, MSE, and RMSE for the baseline model"
   ]
  },
  {
   "cell_type": "code",
   "execution_count": null,
   "id": "7fd6c483",
   "metadata": {},
   "outputs": [],
   "source": []
  },
  {
   "cell_type": "markdown",
   "id": "15df3fdd",
   "metadata": {},
   "source": [
    "##### 9d. better_than_baseline(y, yhat): returns true if your model performs better than the baseline, otherwise false"
   ]
  },
  {
   "cell_type": "code",
   "execution_count": null,
   "id": "f66b8a70",
   "metadata": {},
   "outputs": [],
   "source": []
  },
  {
   "cell_type": "markdown",
   "id": "107020d7",
   "metadata": {},
   "source": [
    "<a id='bonus1'></a>\n",
    "# Bonus Question 1:\n",
    "<li><a href='#TableOfContents'>Table of Contents</a></li>"
   ]
  },
  {
   "cell_type": "markdown",
   "id": "cbc442b0",
   "metadata": {},
   "source": [
    "### Bonus - 1. Load the tips dataset from either pydataset or seaborn. Fit a linear regression model (ordinary least squares) and compute yhat, predictions of tip using total_bill."
   ]
  },
  {
   "cell_type": "code",
   "execution_count": 9,
   "id": "3f15496e",
   "metadata": {},
   "outputs": [
    {
     "data": {
      "text/html": [
       "<div>\n",
       "<style scoped>\n",
       "    .dataframe tbody tr th:only-of-type {\n",
       "        vertical-align: middle;\n",
       "    }\n",
       "\n",
       "    .dataframe tbody tr th {\n",
       "        vertical-align: top;\n",
       "    }\n",
       "\n",
       "    .dataframe thead th {\n",
       "        text-align: right;\n",
       "    }\n",
       "</style>\n",
       "<table border=\"1\" class=\"dataframe\">\n",
       "  <thead>\n",
       "    <tr style=\"text-align: right;\">\n",
       "      <th></th>\n",
       "      <th>total_bill</th>\n",
       "      <th>tip</th>\n",
       "      <th>sex</th>\n",
       "      <th>smoker</th>\n",
       "      <th>day</th>\n",
       "      <th>time</th>\n",
       "      <th>size</th>\n",
       "    </tr>\n",
       "  </thead>\n",
       "  <tbody>\n",
       "    <tr>\n",
       "      <th>166</th>\n",
       "      <td>24.52</td>\n",
       "      <td>3.48</td>\n",
       "      <td>Male</td>\n",
       "      <td>No</td>\n",
       "      <td>Sun</td>\n",
       "      <td>Dinner</td>\n",
       "      <td>3</td>\n",
       "    </tr>\n",
       "  </tbody>\n",
       "</table>\n",
       "</div>"
      ],
      "text/plain": [
       "     total_bill   tip   sex smoker  day    time  size\n",
       "166       24.52  3.48  Male     No  Sun  Dinner     3"
      ]
     },
     "execution_count": 9,
     "metadata": {},
     "output_type": "execute_result"
    }
   ],
   "source": [
    "tips = data('tips')\n",
    "tips.sample()"
   ]
  },
  {
   "cell_type": "code",
   "execution_count": null,
   "id": "1d05e81f",
   "metadata": {},
   "outputs": [],
   "source": []
  },
  {
   "cell_type": "markdown",
   "id": "1f9ca1c0",
   "metadata": {},
   "source": [
    "<a id='bonus2'></a>\n",
    "# Bonus Question 2:\n",
    "<li><a href='#TableOfContents'>Table of Contents</a></li>"
   ]
  },
  {
   "cell_type": "markdown",
   "id": "9fc5302c",
   "metadata": {},
   "source": [
    "### Bonus - 2. Load the mpg dataset and fit a model that predicts highway mileage based on engine displacement. Take a look at all the regression evaluation metrics, and determine whether this model is better than the baseline model. Use the functions from your evaluate.py to help accomplish this."
   ]
  },
  {
   "cell_type": "code",
   "execution_count": 10,
   "id": "216459da",
   "metadata": {},
   "outputs": [
    {
     "data": {
      "text/html": [
       "<div>\n",
       "<style scoped>\n",
       "    .dataframe tbody tr th:only-of-type {\n",
       "        vertical-align: middle;\n",
       "    }\n",
       "\n",
       "    .dataframe tbody tr th {\n",
       "        vertical-align: top;\n",
       "    }\n",
       "\n",
       "    .dataframe thead th {\n",
       "        text-align: right;\n",
       "    }\n",
       "</style>\n",
       "<table border=\"1\" class=\"dataframe\">\n",
       "  <thead>\n",
       "    <tr style=\"text-align: right;\">\n",
       "      <th></th>\n",
       "      <th>manufacturer</th>\n",
       "      <th>model</th>\n",
       "      <th>displ</th>\n",
       "      <th>year</th>\n",
       "      <th>cyl</th>\n",
       "      <th>trans</th>\n",
       "      <th>drv</th>\n",
       "      <th>cty</th>\n",
       "      <th>hwy</th>\n",
       "      <th>fl</th>\n",
       "      <th>class</th>\n",
       "    </tr>\n",
       "  </thead>\n",
       "  <tbody>\n",
       "    <tr>\n",
       "      <th>24</th>\n",
       "      <td>chevrolet</td>\n",
       "      <td>corvette</td>\n",
       "      <td>5.7</td>\n",
       "      <td>1999</td>\n",
       "      <td>8</td>\n",
       "      <td>manual(m6)</td>\n",
       "      <td>r</td>\n",
       "      <td>16</td>\n",
       "      <td>26</td>\n",
       "      <td>p</td>\n",
       "      <td>2seater</td>\n",
       "    </tr>\n",
       "  </tbody>\n",
       "</table>\n",
       "</div>"
      ],
      "text/plain": [
       "   manufacturer     model  displ  year  cyl       trans drv  cty  hwy fl  \\\n",
       "24    chevrolet  corvette    5.7  1999    8  manual(m6)   r   16   26  p   \n",
       "\n",
       "      class  \n",
       "24  2seater  "
      ]
     },
     "execution_count": 10,
     "metadata": {},
     "output_type": "execute_result"
    }
   ],
   "source": [
    "mpg = data('mpg')\n",
    "mpg.sample()"
   ]
  },
  {
   "cell_type": "code",
   "execution_count": null,
   "id": "48245772",
   "metadata": {},
   "outputs": [],
   "source": []
  }
 ],
 "metadata": {
  "kernelspec": {
   "display_name": "Python 3 (ipykernel)",
   "language": "python",
   "name": "python3"
  },
  "language_info": {
   "codemirror_mode": {
    "name": "ipython",
    "version": 3
   },
   "file_extension": ".py",
   "mimetype": "text/x-python",
   "name": "python",
   "nbconvert_exporter": "python",
   "pygments_lexer": "ipython3",
   "version": "3.9.13"
  }
 },
 "nbformat": 4,
 "nbformat_minor": 5
}

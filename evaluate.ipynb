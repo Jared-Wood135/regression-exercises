{
 "cells": [
  {
   "cell_type": "markdown",
   "id": "d2c9bcaf",
   "metadata": {},
   "source": [
    "<a id=\"TableOfContents\"></a>\n",
    "# TABLE OF CONTENTS:\n",
    "<li><a href='#imports'>Imports</a></li>\n",
    "<li><a href=\"#Q1\">Question 1</a></li>\n",
    "<li><a href='#Q2'>Question 2</a></li>\n",
    "<li><a href='#Q3'>Question 3</a></li>\n",
    "<li><a href=\"#Q4\">Question 4</a></li>\n",
    "<li><a href='#Q5'>Question 5</a></li>\n",
    "<li><a href='#Q6'>Question 6</a></li>\n",
    "<li><a href=\"#Q7\">Question 7</a></li>\n",
    "<li><a href='#Q8'>Question 8</a></li>\n",
    "<li><a href='#Q9'>Question 9</a></li>\n",
    "<li><a href='#bonus1'>Bonus Question 1</a></li>\n",
    "<li><a href='#bonus2'>Bonus Question 2</a></li>"
   ]
  },
  {
   "cell_type": "markdown",
   "id": "1ea5ab8c",
   "metadata": {},
   "source": [
    "Do you work for this exercise in either a jupyter notebook named evaluate within your regression-exercises repository. By the end of this exercise you will also create a python script named evaluate, so the overall deliverables for this exercise are the python script and jupyter notebook both with the name evaluate within your regression-exercises repo."
   ]
  },
  {
   "cell_type": "markdown",
   "id": "2fa5ad5e",
   "metadata": {},
   "source": [
    "<a id='imports'></a>\n",
    "# IMPORTS:\n",
    "<li><a href='#TableOfContents'>Table of Contents</a></li>"
   ]
  },
  {
   "cell_type": "code",
   "execution_count": 1,
   "id": "7c0246df",
   "metadata": {},
   "outputs": [],
   "source": [
    "# Vectorization and tables\n",
    "import numpy as np\n",
    "import pandas as pd\n",
    "\n",
    "# Visualization\n",
    "import matplotlib.pyplot as plt\n",
    "import seaborn as sns\n",
    "\n",
    "# Stats\n",
    "from scipy import stats\n",
    "\n",
    "# Datasets\n",
    "from pydataset import data\n",
    "\n",
    "# sklearn\n",
    "from sklearn.linear_model import LinearRegression\n",
    "from sklearn.metrics import r2_score, mean_squared_error\n",
    "\n",
    "# .py files\n",
    "import wrangle"
   ]
  },
  {
   "cell_type": "markdown",
   "id": "62d862bb",
   "metadata": {},
   "source": [
    "<a id='Q1'></a>\n",
    "# Question 1:\n",
    "<li><a href='#TableOfContents'>Table of Contents</a></li>"
   ]
  },
  {
   "cell_type": "markdown",
   "id": "f7377032",
   "metadata": {},
   "source": [
    "### 1. Load your zillow dataset."
   ]
  },
  {
   "cell_type": "code",
   "execution_count": 3,
   "id": "151d8a7b",
   "metadata": {},
   "outputs": [
    {
     "name": "stdout",
     "output_type": "stream",
     "text": [
      "train.shape:(1069116, 12)\n",
      "validate.shape:(458193, 12)\n",
      "test.shape:(381828, 12)\n"
     ]
    },
    {
     "data": {
      "text/html": [
       "<div>\n",
       "<style scoped>\n",
       "    .dataframe tbody tr th:only-of-type {\n",
       "        vertical-align: middle;\n",
       "    }\n",
       "\n",
       "    .dataframe tbody tr th {\n",
       "        vertical-align: top;\n",
       "    }\n",
       "\n",
       "    .dataframe thead th {\n",
       "        text-align: right;\n",
       "    }\n",
       "</style>\n",
       "<table border=\"1\" class=\"dataframe\">\n",
       "  <thead>\n",
       "    <tr style=\"text-align: right;\">\n",
       "      <th></th>\n",
       "      <th>bedroomcnt</th>\n",
       "      <th>bathroomcnt</th>\n",
       "      <th>sqrft</th>\n",
       "      <th>assessedvalue</th>\n",
       "      <th>yearbuilt</th>\n",
       "      <th>taxamount</th>\n",
       "      <th>county_Los Angeles</th>\n",
       "      <th>county_Orange</th>\n",
       "      <th>county_Ventura</th>\n",
       "      <th>propertylandusedesc_Inferred Single Family Residential</th>\n",
       "      <th>propertylandusedesc_Single Family Residential</th>\n",
       "      <th>state_California</th>\n",
       "    </tr>\n",
       "  </thead>\n",
       "  <tbody>\n",
       "    <tr>\n",
       "      <th>1237441</th>\n",
       "      <td>4</td>\n",
       "      <td>3.0</td>\n",
       "      <td>3097.0</td>\n",
       "      <td>492326.0</td>\n",
       "      <td>1984</td>\n",
       "      <td>4929.86</td>\n",
       "      <td>0</td>\n",
       "      <td>1</td>\n",
       "      <td>0</td>\n",
       "      <td>0</td>\n",
       "      <td>1</td>\n",
       "      <td>1</td>\n",
       "    </tr>\n",
       "    <tr>\n",
       "      <th>1159376</th>\n",
       "      <td>2</td>\n",
       "      <td>1.0</td>\n",
       "      <td>692.0</td>\n",
       "      <td>239885.0</td>\n",
       "      <td>1956</td>\n",
       "      <td>2933.80</td>\n",
       "      <td>1</td>\n",
       "      <td>0</td>\n",
       "      <td>0</td>\n",
       "      <td>0</td>\n",
       "      <td>1</td>\n",
       "      <td>1</td>\n",
       "    </tr>\n",
       "    <tr>\n",
       "      <th>19016</th>\n",
       "      <td>3</td>\n",
       "      <td>2.0</td>\n",
       "      <td>1480.0</td>\n",
       "      <td>356860.0</td>\n",
       "      <td>1970</td>\n",
       "      <td>4394.00</td>\n",
       "      <td>0</td>\n",
       "      <td>1</td>\n",
       "      <td>0</td>\n",
       "      <td>0</td>\n",
       "      <td>1</td>\n",
       "      <td>1</td>\n",
       "    </tr>\n",
       "    <tr>\n",
       "      <th>1764228</th>\n",
       "      <td>3</td>\n",
       "      <td>2.0</td>\n",
       "      <td>1083.0</td>\n",
       "      <td>151373.0</td>\n",
       "      <td>1962</td>\n",
       "      <td>1955.76</td>\n",
       "      <td>0</td>\n",
       "      <td>1</td>\n",
       "      <td>0</td>\n",
       "      <td>0</td>\n",
       "      <td>1</td>\n",
       "      <td>1</td>\n",
       "    </tr>\n",
       "    <tr>\n",
       "      <th>2090759</th>\n",
       "      <td>3</td>\n",
       "      <td>1.0</td>\n",
       "      <td>983.0</td>\n",
       "      <td>124263.0</td>\n",
       "      <td>1954</td>\n",
       "      <td>2159.90</td>\n",
       "      <td>1</td>\n",
       "      <td>0</td>\n",
       "      <td>0</td>\n",
       "      <td>0</td>\n",
       "      <td>1</td>\n",
       "      <td>1</td>\n",
       "    </tr>\n",
       "    <tr>\n",
       "      <th>...</th>\n",
       "      <td>...</td>\n",
       "      <td>...</td>\n",
       "      <td>...</td>\n",
       "      <td>...</td>\n",
       "      <td>...</td>\n",
       "      <td>...</td>\n",
       "      <td>...</td>\n",
       "      <td>...</td>\n",
       "      <td>...</td>\n",
       "      <td>...</td>\n",
       "      <td>...</td>\n",
       "      <td>...</td>\n",
       "    </tr>\n",
       "    <tr>\n",
       "      <th>1667154</th>\n",
       "      <td>3</td>\n",
       "      <td>1.0</td>\n",
       "      <td>774.0</td>\n",
       "      <td>177850.0</td>\n",
       "      <td>1948</td>\n",
       "      <td>2446.98</td>\n",
       "      <td>0</td>\n",
       "      <td>1</td>\n",
       "      <td>0</td>\n",
       "      <td>0</td>\n",
       "      <td>1</td>\n",
       "      <td>1</td>\n",
       "    </tr>\n",
       "    <tr>\n",
       "      <th>1325051</th>\n",
       "      <td>4</td>\n",
       "      <td>2.5</td>\n",
       "      <td>1970.0</td>\n",
       "      <td>554009.0</td>\n",
       "      <td>1984</td>\n",
       "      <td>6205.96</td>\n",
       "      <td>0</td>\n",
       "      <td>0</td>\n",
       "      <td>1</td>\n",
       "      <td>0</td>\n",
       "      <td>1</td>\n",
       "      <td>1</td>\n",
       "    </tr>\n",
       "    <tr>\n",
       "      <th>596283</th>\n",
       "      <td>2</td>\n",
       "      <td>2.0</td>\n",
       "      <td>992.0</td>\n",
       "      <td>33706.0</td>\n",
       "      <td>1924</td>\n",
       "      <td>588.93</td>\n",
       "      <td>1</td>\n",
       "      <td>0</td>\n",
       "      <td>0</td>\n",
       "      <td>0</td>\n",
       "      <td>1</td>\n",
       "      <td>1</td>\n",
       "    </tr>\n",
       "    <tr>\n",
       "      <th>688371</th>\n",
       "      <td>2</td>\n",
       "      <td>2.0</td>\n",
       "      <td>1350.0</td>\n",
       "      <td>407147.0</td>\n",
       "      <td>1977</td>\n",
       "      <td>4210.94</td>\n",
       "      <td>0</td>\n",
       "      <td>1</td>\n",
       "      <td>0</td>\n",
       "      <td>0</td>\n",
       "      <td>1</td>\n",
       "      <td>1</td>\n",
       "    </tr>\n",
       "    <tr>\n",
       "      <th>1165449</th>\n",
       "      <td>2</td>\n",
       "      <td>1.0</td>\n",
       "      <td>1064.0</td>\n",
       "      <td>81571.0</td>\n",
       "      <td>1952</td>\n",
       "      <td>1316.11</td>\n",
       "      <td>1</td>\n",
       "      <td>0</td>\n",
       "      <td>0</td>\n",
       "      <td>0</td>\n",
       "      <td>1</td>\n",
       "      <td>1</td>\n",
       "    </tr>\n",
       "  </tbody>\n",
       "</table>\n",
       "<p>1069116 rows × 12 columns</p>\n",
       "</div>"
      ],
      "text/plain": [
       "         bedroomcnt  bathroomcnt   sqrft  assessedvalue  yearbuilt  taxamount  \\\n",
       "1237441           4          3.0  3097.0       492326.0       1984    4929.86   \n",
       "1159376           2          1.0   692.0       239885.0       1956    2933.80   \n",
       "19016             3          2.0  1480.0       356860.0       1970    4394.00   \n",
       "1764228           3          2.0  1083.0       151373.0       1962    1955.76   \n",
       "2090759           3          1.0   983.0       124263.0       1954    2159.90   \n",
       "...             ...          ...     ...            ...        ...        ...   \n",
       "1667154           3          1.0   774.0       177850.0       1948    2446.98   \n",
       "1325051           4          2.5  1970.0       554009.0       1984    6205.96   \n",
       "596283            2          2.0   992.0        33706.0       1924     588.93   \n",
       "688371            2          2.0  1350.0       407147.0       1977    4210.94   \n",
       "1165449           2          1.0  1064.0        81571.0       1952    1316.11   \n",
       "\n",
       "         county_Los Angeles  county_Orange  county_Ventura  \\\n",
       "1237441                   0              1               0   \n",
       "1159376                   1              0               0   \n",
       "19016                     0              1               0   \n",
       "1764228                   0              1               0   \n",
       "2090759                   1              0               0   \n",
       "...                     ...            ...             ...   \n",
       "1667154                   0              1               0   \n",
       "1325051                   0              0               1   \n",
       "596283                    1              0               0   \n",
       "688371                    0              1               0   \n",
       "1165449                   1              0               0   \n",
       "\n",
       "         propertylandusedesc_Inferred Single Family Residential  \\\n",
       "1237441                                                       0   \n",
       "1159376                                                       0   \n",
       "19016                                                         0   \n",
       "1764228                                                       0   \n",
       "2090759                                                       0   \n",
       "...                                                         ...   \n",
       "1667154                                                       0   \n",
       "1325051                                                       0   \n",
       "596283                                                        0   \n",
       "688371                                                        0   \n",
       "1165449                                                       0   \n",
       "\n",
       "         propertylandusedesc_Single Family Residential  state_California  \n",
       "1237441                                              1                 1  \n",
       "1159376                                              1                 1  \n",
       "19016                                                1                 1  \n",
       "1764228                                              1                 1  \n",
       "2090759                                              1                 1  \n",
       "...                                                ...               ...  \n",
       "1667154                                              1                 1  \n",
       "1325051                                              1                 1  \n",
       "596283                                               1                 1  \n",
       "688371                                               1                 1  \n",
       "1165449                                              1                 1  \n",
       "\n",
       "[1069116 rows x 12 columns]"
      ]
     },
     "execution_count": 3,
     "metadata": {},
     "output_type": "execute_result"
    }
   ],
   "source": [
    "train, validate, test = wrangle.wrangle_zillow()\n",
    "train"
   ]
  },
  {
   "cell_type": "markdown",
   "id": "3aff9c6b",
   "metadata": {},
   "source": [
    "<a id='Q2'></a>\n",
    "# Question 2:\n",
    "<li><a href='#TableOfContents'>Table of Contents</a></li>"
   ]
  },
  {
   "cell_type": "markdown",
   "id": "2321f8e1",
   "metadata": {},
   "source": [
    "### 2. Fit a linear regression model (ordinary least squares) and compute yhat, predictions of taxvaluedollarcnt using only calculatedfinishedsqft."
   ]
  },
  {
   "cell_type": "markdown",
   "id": "58fa8bb2",
   "metadata": {},
   "source": [
    "Here is some sample code to get you started:\n",
    "\n",
    "from sklearn.linear_model import LinearRegression\n",
    "\n",
    "assuming X and y are already defined\n",
    "model = LinearRegression().fit(X, y)\n",
    "predictions = model.predict(X)\n",
    "\n",
    "Modify and add to the code above as necessary for it to work with the zillow dataset."
   ]
  },
  {
   "cell_type": "code",
   "execution_count": 4,
   "id": "d5e86e91",
   "metadata": {},
   "outputs": [
    {
     "data": {
      "text/plain": [
       "['bedroomcnt',\n",
       " 'bathroomcnt',\n",
       " 'sqrft',\n",
       " 'assessedvalue',\n",
       " 'yearbuilt',\n",
       " 'taxamount',\n",
       " 'county_Los Angeles',\n",
       " 'county_Orange',\n",
       " 'county_Ventura',\n",
       " 'propertylandusedesc_Inferred Single Family Residential',\n",
       " 'propertylandusedesc_Single Family Residential',\n",
       " 'state_California']"
      ]
     },
     "execution_count": 4,
     "metadata": {},
     "output_type": "execute_result"
    }
   ],
   "source": [
    "train.columns.to_list()"
   ]
  },
  {
   "cell_type": "markdown",
   "id": "ba8ccd90",
   "metadata": {},
   "source": [
    "<a id='Q3'></a>\n",
    "# Question 3:\n",
    "<li><a href='#TableOfContents'>Table of Contents</a></li>"
   ]
  },
  {
   "cell_type": "markdown",
   "id": "9d526488",
   "metadata": {},
   "source": [
    "### 3. Plot the residuals for the linear regression model that you made."
   ]
  },
  {
   "cell_type": "code",
   "execution_count": null,
   "id": "3a0eb97e",
   "metadata": {},
   "outputs": [],
   "source": []
  },
  {
   "cell_type": "markdown",
   "id": "888adb2f",
   "metadata": {},
   "source": [
    "<a id='Q4'></a>\n",
    "# Question 4:\n",
    "<li><a href='#TableOfContents'>Table of Contents</a></li>"
   ]
  },
  {
   "cell_type": "markdown",
   "id": "9426313b",
   "metadata": {},
   "source": [
    "### 4. Calculate the sum of squared errors, explained sum of squares, total sum of squares, mean squared error, and root mean squared error for your model."
   ]
  },
  {
   "cell_type": "code",
   "execution_count": null,
   "id": "36b5781c",
   "metadata": {},
   "outputs": [],
   "source": []
  },
  {
   "cell_type": "markdown",
   "id": "0cb86f51",
   "metadata": {},
   "source": [
    "<a id='Q5'></a>\n",
    "# Question 5:\n",
    "<li><a href='#TableOfContents'>Table of Contents</a></li>"
   ]
  },
  {
   "cell_type": "markdown",
   "id": "36e31725",
   "metadata": {},
   "source": [
    "### 5. Calculate the sum of squared errors, mean squared error, and root mean squared error for the baseline model (i.e. a model that always predicts the average taxvaluedollarcnt amount)."
   ]
  },
  {
   "cell_type": "code",
   "execution_count": null,
   "id": "a86311ac",
   "metadata": {},
   "outputs": [],
   "source": []
  },
  {
   "cell_type": "markdown",
   "id": "50c73374",
   "metadata": {},
   "source": [
    "<a id='Q6'></a>\n",
    "# Question 6:\n",
    "<li><a href='#TableOfContents'>Table of Contents</a></li>"
   ]
  },
  {
   "cell_type": "markdown",
   "id": "e9f4d74a",
   "metadata": {},
   "source": [
    "### 6. Write python code that compares the sum of squared errors for your model against the sum of squared errors for the baseline model and outputs whether or not your model performs better than the baseline model."
   ]
  },
  {
   "cell_type": "code",
   "execution_count": null,
   "id": "55847498",
   "metadata": {},
   "outputs": [],
   "source": []
  },
  {
   "cell_type": "markdown",
   "id": "e089eb7d",
   "metadata": {},
   "source": [
    "<a id='Q7'></a>\n",
    "# Question 7:\n",
    "<li><a href='#TableOfContents'>Table of Contents</a></li>"
   ]
  },
  {
   "cell_type": "markdown",
   "id": "607e72b3",
   "metadata": {},
   "source": [
    "### 7. What is the amount of variance explained in your model?"
   ]
  },
  {
   "cell_type": "code",
   "execution_count": null,
   "id": "7f143053",
   "metadata": {},
   "outputs": [],
   "source": []
  },
  {
   "cell_type": "markdown",
   "id": "264e272e",
   "metadata": {},
   "source": [
    "<a id='Q8'></a>\n",
    "# Question 8:\n",
    "<li><a href='#TableOfContents'>Table of Contents</a></li>"
   ]
  },
  {
   "cell_type": "markdown",
   "id": "f51c32bd",
   "metadata": {},
   "source": [
    "### 8. Is your model better than the baseline model?"
   ]
  },
  {
   "cell_type": "code",
   "execution_count": null,
   "id": "eeccf874",
   "metadata": {},
   "outputs": [],
   "source": []
  },
  {
   "cell_type": "markdown",
   "id": "ded73aa2",
   "metadata": {},
   "source": [
    "<a id='Q9'></a>\n",
    "# Question 9:\n",
    "<li><a href='#TableOfContents'>Table of Contents</a></li>"
   ]
  },
  {
   "cell_type": "markdown",
   "id": "c7472060",
   "metadata": {},
   "source": [
    "### 9 . Create a file named evaluate.py that contains the following functions."
   ]
  },
  {
   "cell_type": "markdown",
   "id": "79740745",
   "metadata": {},
   "source": [
    "##### 9a. plot_residuals(y, yhat): creates a residual plot"
   ]
  },
  {
   "cell_type": "code",
   "execution_count": null,
   "id": "0c48ec72",
   "metadata": {},
   "outputs": [],
   "source": []
  },
  {
   "cell_type": "markdown",
   "id": "04f87dc4",
   "metadata": {},
   "source": [
    "##### 9b. regression_errors(y, yhat): returns the following values:\n",
    "- sum of squared errors (SSE)\n",
    "- explained sum of squares (ESS)\n",
    "- total sum of squares (TSS)\n",
    "- mean squared error (MSE)\n",
    "- root mean squared error (RMSE)"
   ]
  },
  {
   "cell_type": "code",
   "execution_count": null,
   "id": "189a6ac5",
   "metadata": {},
   "outputs": [],
   "source": []
  },
  {
   "cell_type": "markdown",
   "id": "e79d636f",
   "metadata": {},
   "source": [
    "##### 9c. baseline_mean_errors(y): computes the SSE, MSE, and RMSE for the baseline model"
   ]
  },
  {
   "cell_type": "code",
   "execution_count": null,
   "id": "7b3245e3",
   "metadata": {},
   "outputs": [],
   "source": []
  },
  {
   "cell_type": "markdown",
   "id": "04258ea5",
   "metadata": {},
   "source": [
    "##### 9d. better_than_baseline(y, yhat): returns true if your model performs better than the baseline, otherwise false"
   ]
  },
  {
   "cell_type": "code",
   "execution_count": null,
   "id": "3dc7ac39",
   "metadata": {},
   "outputs": [],
   "source": []
  },
  {
   "cell_type": "markdown",
   "id": "6f1e4124",
   "metadata": {},
   "source": [
    "<a id='bonus1'></a>\n",
    "# Bonus Question 1:\n",
    "<li><a href='#TableOfContents'>Table of Contents</a></li>"
   ]
  },
  {
   "cell_type": "markdown",
   "id": "1a325f11",
   "metadata": {},
   "source": [
    "### Bonus - 1. Load the tips dataset from either pydataset or seaborn. Fit a linear regression model (ordinary least squares) and compute yhat, predictions of tip using total_bill."
   ]
  },
  {
   "cell_type": "code",
   "execution_count": 7,
   "id": "22d8366b",
   "metadata": {},
   "outputs": [
    {
     "data": {
      "text/html": [
       "<div>\n",
       "<style scoped>\n",
       "    .dataframe tbody tr th:only-of-type {\n",
       "        vertical-align: middle;\n",
       "    }\n",
       "\n",
       "    .dataframe tbody tr th {\n",
       "        vertical-align: top;\n",
       "    }\n",
       "\n",
       "    .dataframe thead th {\n",
       "        text-align: right;\n",
       "    }\n",
       "</style>\n",
       "<table border=\"1\" class=\"dataframe\">\n",
       "  <thead>\n",
       "    <tr style=\"text-align: right;\">\n",
       "      <th></th>\n",
       "      <th>total_bill</th>\n",
       "      <th>tip</th>\n",
       "      <th>sex</th>\n",
       "      <th>smoker</th>\n",
       "      <th>day</th>\n",
       "      <th>time</th>\n",
       "      <th>size</th>\n",
       "    </tr>\n",
       "  </thead>\n",
       "  <tbody>\n",
       "    <tr>\n",
       "      <th>219</th>\n",
       "      <td>7.74</td>\n",
       "      <td>1.44</td>\n",
       "      <td>Male</td>\n",
       "      <td>Yes</td>\n",
       "      <td>Sat</td>\n",
       "      <td>Dinner</td>\n",
       "      <td>2</td>\n",
       "    </tr>\n",
       "  </tbody>\n",
       "</table>\n",
       "</div>"
      ],
      "text/plain": [
       "     total_bill   tip   sex smoker  day    time  size\n",
       "219        7.74  1.44  Male    Yes  Sat  Dinner     2"
      ]
     },
     "execution_count": 7,
     "metadata": {},
     "output_type": "execute_result"
    }
   ],
   "source": [
    "tips = data('tips')\n",
    "tips.sample()"
   ]
  },
  {
   "cell_type": "code",
   "execution_count": null,
   "id": "d2d4a8a5",
   "metadata": {},
   "outputs": [],
   "source": []
  },
  {
   "cell_type": "markdown",
   "id": "0dd272ad",
   "metadata": {},
   "source": [
    "<a id='bonus2'></a>\n",
    "# Bonus Question 2:\n",
    "<li><a href='#TableOfContents'>Table of Contents</a></li>"
   ]
  },
  {
   "cell_type": "markdown",
   "id": "c8cdb40d",
   "metadata": {},
   "source": [
    "### Bonus - 2. Load the mpg dataset and fit a model that predicts highway mileage based on engine displacement. Take a look at all the regression evaluation metrics, and determine whether this model is better than the baseline model. Use the functions from your evaluate.py to help accomplish this."
   ]
  },
  {
   "cell_type": "code",
   "execution_count": 9,
   "id": "e5f66a18",
   "metadata": {},
   "outputs": [
    {
     "data": {
      "text/html": [
       "<div>\n",
       "<style scoped>\n",
       "    .dataframe tbody tr th:only-of-type {\n",
       "        vertical-align: middle;\n",
       "    }\n",
       "\n",
       "    .dataframe tbody tr th {\n",
       "        vertical-align: top;\n",
       "    }\n",
       "\n",
       "    .dataframe thead th {\n",
       "        text-align: right;\n",
       "    }\n",
       "</style>\n",
       "<table border=\"1\" class=\"dataframe\">\n",
       "  <thead>\n",
       "    <tr style=\"text-align: right;\">\n",
       "      <th></th>\n",
       "      <th>manufacturer</th>\n",
       "      <th>model</th>\n",
       "      <th>displ</th>\n",
       "      <th>year</th>\n",
       "      <th>cyl</th>\n",
       "      <th>trans</th>\n",
       "      <th>drv</th>\n",
       "      <th>cty</th>\n",
       "      <th>hwy</th>\n",
       "      <th>fl</th>\n",
       "      <th>class</th>\n",
       "    </tr>\n",
       "  </thead>\n",
       "  <tbody>\n",
       "    <tr>\n",
       "      <th>130</th>\n",
       "      <td>jeep</td>\n",
       "      <td>grand cherokee 4wd</td>\n",
       "      <td>6.1</td>\n",
       "      <td>2008</td>\n",
       "      <td>8</td>\n",
       "      <td>auto(l5)</td>\n",
       "      <td>4</td>\n",
       "      <td>11</td>\n",
       "      <td>14</td>\n",
       "      <td>p</td>\n",
       "      <td>suv</td>\n",
       "    </tr>\n",
       "  </tbody>\n",
       "</table>\n",
       "</div>"
      ],
      "text/plain": [
       "    manufacturer               model  displ  year  cyl     trans drv  cty  \\\n",
       "130         jeep  grand cherokee 4wd    6.1  2008    8  auto(l5)   4   11   \n",
       "\n",
       "     hwy fl class  \n",
       "130   14  p   suv  "
      ]
     },
     "execution_count": 9,
     "metadata": {},
     "output_type": "execute_result"
    }
   ],
   "source": [
    "mpg = data('mpg')\n",
    "mpg.sample()"
   ]
  },
  {
   "cell_type": "code",
   "execution_count": null,
   "id": "5e9e4e9d",
   "metadata": {},
   "outputs": [],
   "source": []
  }
 ],
 "metadata": {
  "kernelspec": {
   "display_name": "Python 3 (ipykernel)",
   "language": "python",
   "name": "python3"
  },
  "language_info": {
   "codemirror_mode": {
    "name": "ipython",
    "version": 3
   },
   "file_extension": ".py",
   "mimetype": "text/x-python",
   "name": "python",
   "nbconvert_exporter": "python",
   "pygments_lexer": "ipython3",
   "version": "3.9.13"
  }
 },
 "nbformat": 4,
 "nbformat_minor": 5
}

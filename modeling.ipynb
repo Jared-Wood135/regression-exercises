{
 "cells": [
  {
   "cell_type": "markdown",
   "id": "cd68b405",
   "metadata": {},
   "source": [
    "<a id=\"TableOfContents\"></a>\n",
    "# TABLE OF CONTENTS:\n",
    "<li><a href='#imports'>Imports</a></li>\n",
    "<li><a href=\"#Q1\">Question 1</a></li>\n",
    "<li><a href='#Q2'>Question 2</a></li>\n",
    "<li><a href='#Q3'>Question 3</a></li>"
   ]
  },
  {
   "cell_type": "markdown",
   "id": "01f5cc89",
   "metadata": {},
   "source": [
    "<a id='imports'></a>\n",
    "# IMPORTS:\n",
    "<li><a href='#TableOfContents'>Table of Contents</a></li>"
   ]
  },
  {
   "cell_type": "code",
   "execution_count": 1,
   "id": "3807ecea",
   "metadata": {},
   "outputs": [],
   "source": [
    "# Vectorization and tables\n",
    "import numpy as np\n",
    "import pandas as pd\n",
    "\n",
    "# Visualization\n",
    "import matplotlib.pyplot as plt\n",
    "import seaborn as sns\n",
    "\n",
    "# Datasets\n",
    "from pydataset import data\n",
    "\n",
    "# sklearn\n",
    "from sklearn.linear_model import LinearRegression\n",
    "from sklearn.linear_model import LassoLars\n",
    "from sklearn.linear_model import TweedieRegressor\n",
    "from sklearn.preprocessing import PolynomialFeatures\n",
    "from sklearn.metrics import explained_variance_score\n",
    "from sklearn.metrics import mean_squared_error\n",
    "\n",
    "# .py files\n",
    "import wrangle"
   ]
  },
  {
   "cell_type": "markdown",
   "id": "fdb7592c",
   "metadata": {},
   "source": [
    "<a id='Q1'></a>\n",
    "# Question 1:\n",
    "<li><a href='#TableOfContents'>Table of Contents</a></li>"
   ]
  },
  {
   "cell_type": "markdown",
   "id": "fe0cc71b",
   "metadata": {},
   "source": [
    "### 1. Select a dataset with a continuous target variable."
   ]
  },
  {
   "cell_type": "code",
   "execution_count": 2,
   "id": "ab9e78cc",
   "metadata": {},
   "outputs": [
    {
     "name": "stdout",
     "output_type": "stream",
     "text": [
      "train.shape:(1069116, 12)\n",
      "validate.shape:(458193, 12)\n",
      "test.shape:(381828, 12)\n"
     ]
    }
   ],
   "source": [
    "# Obtain zillow df, split, then reduce sample size\n",
    "train, validate, test = wrangle.wrangle_zillow()\n",
    "train_sample, validate_sample, test_sample = wrangle.sample_dataframe(train, validate, test)"
   ]
  },
  {
   "cell_type": "markdown",
   "id": "8258dbf5",
   "metadata": {},
   "source": [
    "<a id='Q2'></a>\n",
    "# Question 2:\n",
    "<li><a href='#TableOfContents'>Table of Contents</a></li>"
   ]
  },
  {
   "cell_type": "markdown",
   "id": "7be1d130",
   "metadata": {},
   "source": [
    "### 2. Be sure your data is prepared (no missing values, numeric datatypes) and split into samples."
   ]
  },
  {
   "cell_type": "code",
   "execution_count": 3,
   "id": "12f7deda",
   "metadata": {},
   "outputs": [
    {
     "data": {
      "text/plain": [
       "((1000, 12), (428, 12), (357, 12))"
      ]
     },
     "execution_count": 3,
     "metadata": {},
     "output_type": "execute_result"
    }
   ],
   "source": [
    "# Verify smaller sample size\n",
    "train_sample.shape, validate_sample.shape, test_sample.shape"
   ]
  },
  {
   "cell_type": "markdown",
   "id": "299e3199",
   "metadata": {},
   "source": [
    "<a id='Q3'></a>\n",
    "# Question 3:\n",
    "<li><a href='#TableOfContents'>Table of Contents</a></li>\n",
    "<li><a href='#initial'>Initial</a></li>\n",
    "<li><a href='#baseline'>Baseline</a></li>\n",
    "<li><a href='#ols'>LinearRegression(OLS)</a></li>\n",
    "<li><a href='#ll'>LassoLars</a></li>\n",
    "<li><a href='#tdr'>TweedieRegressor</a></li>\n",
    "<li><a href='#pnr'>Polynomial Regression</a></li>"
   ]
  },
  {
   "cell_type": "markdown",
   "id": "ff4b0036",
   "metadata": {},
   "source": [
    "### 3. Work through all of the steps outlined in the lesson, from setting the baseline to selected a model and evaluating the final model on your test data."
   ]
  },
  {
   "cell_type": "markdown",
   "id": "86aada6d",
   "metadata": {},
   "source": [
    "<a id='initial'></a>\n",
    "##### Initial\n",
    "<li><a href='#Q3'>Question 3 Top</a></li>"
   ]
  },
  {
   "cell_type": "code",
   "execution_count": 4,
   "id": "66782253",
   "metadata": {},
   "outputs": [],
   "source": [
    "# Define x_col, y_col for train, validate, test\n",
    "x_train = train_sample.drop(columns='assessedvalue')\n",
    "y_train = pd.DataFrame(train_sample.assessedvalue)\n",
    "x_validate = validate_sample.drop(columns='assessedvalue')\n",
    "y_validate = pd.DataFrame(validate_sample.assessedvalue)\n",
    "x_test = test_sample.drop(columns='assessedvalue')\n",
    "y_test = pd.DataFrame(test_sample.assessedvalue)"
   ]
  },
  {
   "cell_type": "markdown",
   "id": "7adc2521",
   "metadata": {},
   "source": [
    "<a id='baseline'></a>\n",
    "##### Baseline\n",
    "<li><a href='#Q3'>Question 3 Top</a></li>"
   ]
  },
  {
   "cell_type": "code",
   "execution_count": 5,
   "id": "acffe6d2",
   "metadata": {},
   "outputs": [],
   "source": [
    "# Create mean and median baseline values\n",
    "baseline_mean = y_train.assessedvalue.mean()\n",
    "y_train['baseline_mean'] = baseline_mean\n",
    "y_validate['baseline_mean'] = baseline_mean\n",
    "baseline_median = y_train.assessedvalue.median()\n",
    "y_train['baseline_median'] = baseline_median\n",
    "y_validate['baseline_median'] = baseline_median"
   ]
  },
  {
   "cell_type": "code",
   "execution_count": 6,
   "id": "930204bc",
   "metadata": {},
   "outputs": [
    {
     "name": "stdout",
     "output_type": "stream",
     "text": [
      "\u001b[35m ========== MEAN RMSE SCORES ==========\u001b[0m\n",
      "\u001b[32mTrain:\u001b[0m 213250.76778379083\n",
      "\u001b[32mValidate:\u001b[0m 211455.99499646705\n",
      "\u001b[32mDifference:\u001b[0m -1794.7727873237745\n",
      "\n",
      "\n",
      "\u001b[35m ========== MEDIAN RMSE SCORES ==========\u001b[0m\n",
      "\u001b[32mTrain:\u001b[0m 215723.32074742\n",
      "\u001b[32mValidate:\u001b[0m 213096.79189185478\n",
      "\u001b[32mDifference:\u001b[0m -2626.528855565208\n"
     ]
    }
   ],
   "source": [
    "# Compare mean/median RMSE scores\n",
    "rmse_train_mean = mean_squared_error(y_train.assessedvalue,\n",
    "                                    y_train.baseline_mean) ** .5\n",
    "rmse_validate_mean = mean_squared_error(y_validate.assessedvalue,\n",
    "                                    y_validate.baseline_mean) ** .5\n",
    "rmse_train_median = mean_squared_error(y_train.assessedvalue,\n",
    "                                    y_train.baseline_median) ** .5\n",
    "rmse_validate_median = mean_squared_error(y_validate.assessedvalue,\n",
    "                                    y_validate.baseline_median) ** .5\n",
    "\n",
    "print('\\033[35m ========== MEAN RMSE SCORES ==========\\033[0m')\n",
    "print(f'\\033[32mTrain:\\033[0m {rmse_train_mean}\\n\\033[32mValidate:\\033[0m {rmse_validate_mean}\\n\\033[32mDifference:\\033[0m {rmse_validate_mean - rmse_train_mean}')\n",
    "print('\\n\\n\\033[35m ========== MEDIAN RMSE SCORES ==========\\033[0m')\n",
    "print(f'\\033[32mTrain:\\033[0m {rmse_train_median}\\n\\033[32mValidate:\\033[0m {rmse_validate_median}\\n\\033[32mDifference:\\033[0m {rmse_validate_median - rmse_train_median}')"
   ]
  },
  {
   "cell_type": "markdown",
   "id": "b58966f7",
   "metadata": {},
   "source": [
    "### Mean is the better baseline"
   ]
  },
  {
   "cell_type": "code",
   "execution_count": 7,
   "id": "315a20fd",
   "metadata": {},
   "outputs": [],
   "source": [
    "# Create a dictionary of model scores\n",
    "models_dict['baseline'] = {\n",
    "    'model_name' : 'baseline_mean',\n",
    "    'model_type' : 'baseline',\n",
    "    'train_rmse' : round(rmse_train_mean, 2),\n",
    "    'validate_rmse' : round(rmse_validate_mean, 2),\n",
    "    'difference' : round(rmse_validate_mean - rmse_train_mean, 2)\n",
    "}"
   ]
  },
  {
   "cell_type": "code",
   "execution_count": 8,
   "id": "45b080f1",
   "metadata": {},
   "outputs": [
    {
     "data": {
      "text/html": [
       "<div>\n",
       "<style scoped>\n",
       "    .dataframe tbody tr th:only-of-type {\n",
       "        vertical-align: middle;\n",
       "    }\n",
       "\n",
       "    .dataframe tbody tr th {\n",
       "        vertical-align: top;\n",
       "    }\n",
       "\n",
       "    .dataframe thead th {\n",
       "        text-align: right;\n",
       "    }\n",
       "</style>\n",
       "<table border=\"1\" class=\"dataframe\">\n",
       "  <thead>\n",
       "    <tr style=\"text-align: right;\">\n",
       "      <th></th>\n",
       "      <th>model_name</th>\n",
       "      <th>model_type</th>\n",
       "      <th>train_rmse</th>\n",
       "      <th>validate_rmse</th>\n",
       "      <th>difference</th>\n",
       "    </tr>\n",
       "  </thead>\n",
       "  <tbody>\n",
       "    <tr>\n",
       "      <th>0</th>\n",
       "      <td>baseline_mean</td>\n",
       "      <td>baseline</td>\n",
       "      <td>213250.77</td>\n",
       "      <td>211455.99</td>\n",
       "      <td>-1794.77</td>\n",
       "    </tr>\n",
       "  </tbody>\n",
       "</table>\n",
       "</div>"
      ],
      "text/plain": [
       "      model_name model_type  train_rmse  validate_rmse  difference\n",
       "0  baseline_mean   baseline   213250.77      211455.99    -1794.77"
      ]
     },
     "execution_count": 8,
     "metadata": {},
     "output_type": "execute_result"
    }
   ],
   "source": [
    "# Verify compatability with pandas\n",
    "pd.DataFrame([models_dict])"
   ]
  },
  {
   "cell_type": "markdown",
   "id": "889ed00c",
   "metadata": {},
   "source": [
    "<a id='ols'></a>\n",
    "##### LinearRegression(OLS)\n",
    "<li><a href='#Q3'>Question 3 Top</a></li>"
   ]
  },
  {
   "cell_type": "code",
   "execution_count": 10,
   "id": "3e3099d1",
   "metadata": {},
   "outputs": [],
   "source": [
    "# Create train/validate predictions with lr modeling\n",
    "lr = LinearRegression()\n",
    "lr.fit(x_train, y_train.assessedvalue)\n",
    "y_train['lr_pred'] = lr.predict(x_train)\n",
    "y_validate['lr_pred'] = lr.predict(x_validate)"
   ]
  },
  {
   "cell_type": "code",
   "execution_count": 13,
   "id": "598c3ffd",
   "metadata": {},
   "outputs": [],
   "source": [
    "# Get RMSE vals for train/validate\n",
    "# Append to 'models_dict'\n",
    "lr_rmse_train = mean_squared_error(y_train.assessedvalue,\n",
    "                                   y_train.lr_pred) ** .5\n",
    "lr_rmse_validate = mean_squared_error(y_validate.assessedvalue,\n",
    "                                      y_validate.lr_pred) ** .5\n",
    "models_dict['lr'] = {\n",
    "    'model_name' : 'lr',\n",
    "    'model_type' : 'LinearRegression',\n",
    "    'train_rmse' : round(lr_rmse_train, 2),\n",
    "    'validate_rmse' : round(lr_rmse_validate, 2),\n",
    "    'difference' : round(lr_rmse_validate - lr_rmse_train, 2)\n",
    "}"
   ]
  },
  {
   "cell_type": "code",
   "execution_count": 14,
   "id": "05b8a97b",
   "metadata": {},
   "outputs": [
    {
     "data": {
      "text/plain": [
       "{'model_name': 'baseline_mean',\n",
       " 'model_type': 'baseline',\n",
       " 'train_rmse': 213250.77,\n",
       " 'validate_rmse': 211455.99,\n",
       " 'difference': -1794.77,\n",
       " 'lr': {'model_name': 'lr',\n",
       "  'model_type': 'LinearRegression',\n",
       "  'train_rmse': 42531.01,\n",
       "  'validate_rmse': 37582.44,\n",
       "  'difference': -4948.56}}"
      ]
     },
     "execution_count": 14,
     "metadata": {},
     "output_type": "execute_result"
    }
   ],
   "source": [
    "models_dict"
   ]
  },
  {
   "cell_type": "code",
   "execution_count": null,
   "id": "83a2d660",
   "metadata": {},
   "outputs": [],
   "source": [
    "# Get RMSE values of lr modeling\n",
    "lr_RMSE = "
   ]
  },
  {
   "cell_type": "markdown",
   "id": "f3ded222",
   "metadata": {},
   "source": [
    "<a id='ll'></a>\n",
    "##### LassoLars\n",
    "<li><a href='#Q3'>Question 3 Top</a></li>"
   ]
  },
  {
   "cell_type": "code",
   "execution_count": null,
   "id": "ee57c9e6",
   "metadata": {},
   "outputs": [],
   "source": []
  },
  {
   "cell_type": "markdown",
   "id": "7c68be52",
   "metadata": {},
   "source": [
    "<a id='tdr'></a>\n",
    "##### TweedieRegressor\n",
    "<li><a href='#Q3'>Question 3 Top</a></li>"
   ]
  },
  {
   "cell_type": "code",
   "execution_count": null,
   "id": "b59b3117",
   "metadata": {},
   "outputs": [],
   "source": []
  },
  {
   "cell_type": "markdown",
   "id": "fef89335",
   "metadata": {},
   "source": [
    "<a id='pnr'></a>\n",
    "##### Polynomial Regression\n",
    "<li><a href='#Q3'>Question 3 Top</a></li>"
   ]
  },
  {
   "cell_type": "code",
   "execution_count": null,
   "id": "05276fb1",
   "metadata": {},
   "outputs": [],
   "source": []
  }
 ],
 "metadata": {
  "kernelspec": {
   "display_name": "Python 3 (ipykernel)",
   "language": "python",
   "name": "python3"
  },
  "language_info": {
   "codemirror_mode": {
    "name": "ipython",
    "version": 3
   },
   "file_extension": ".py",
   "mimetype": "text/x-python",
   "name": "python",
   "nbconvert_exporter": "python",
   "pygments_lexer": "ipython3",
   "version": "3.9.13"
  }
 },
 "nbformat": 4,
 "nbformat_minor": 5
}
